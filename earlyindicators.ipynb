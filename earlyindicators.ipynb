{
 "cells": [
  {
   "cell_type": "markdown",
   "metadata": {},
   "source": [
    "# Lead-lag relationships between alt-BTC and stock-crypto pairings\n",
    "\n",
    "\n",
    "# Abstract \n",
    "\n",
    "\n",
    "We thought Bitcoin price movements would lead to similar price movements in altcoins. Investors are most confident in Bitcoin as the least risky crypto. For example, imagine a crypto bear market. As Bitcoin recovers, investors gain confidence to put money in riskier coins so as a result, altcoins may lag behind Bitcoin by a certain amount of time. We wanted to perform cross correlation to find that shift. \n",
    "\n",
    "However, using cross correlation, we found the max correlation with a timeshift of zero using 1 minute and 1 day data spanning multiple years. However, we found that on certain days, there are clear lead-lag relationships between BTC and other altcoins or stocks. To this, we developed a trading strategy that capitalizes on these correlations using Linear Regression slope differences as our entry and exit signals.\n",
    "\n",
    "\n",
    "# Introduction:\n",
    "\n",
    "We started with the intent of exploring the relationship between cryptocurrencies. In particular, we expected bitcoin to be a leading indicator of altcoins as it is the largest and most popular crypto. However, we quickly realized that to be minimal, if any. Hence, we shifted to a correlation between crypto assets and stock primarily. Our goal was to be able to trade off of a shift in some indicator that we identify early in the day between a set of possible indicators and assets that can follow those. \n",
    "\n",
    "\n",
    "# EDA \n",
    "\n",
    "We used the yfinance library, so there wasn’t a need to do much data cleaning for EDA. The downside was that the minute data is limited to only a short period of time for download. \n",
    "\n",
    "We looked at BTC and QQQ 5 day price histories to see if they were correlated. They indeed looked correlated. We then normalized the closing prices and performed cross correlation and found BTC to be ahead of QQQ by a number of minutes. We then applied that shift to the price chart.\n",
    "\n",
    "\n",
    "# Methods\n",
    "\n",
    "We realized an issue of cross-correlation is that it is influenced a lot by magnitudes. We care a lot more about the slopes.\n",
    "\n",
    "Our idea: SLOPE LOSS. Use the difference in slopes of the regression line in the loss function. Hyperparameters: stride of slope intervals, length of slope interval.\n",
    "\n",
    "Our method was centered around performing cross-correlation to see the shift in time that two assets have. So, once we identify a shift in the earlier portion of a day’s data and see the quality of that shift, we can trade off of that for the rest of the day. Some things we could do in the future are vary the level at which we want to trade and such, but for the purposes of this project, we focused on implementing the strategy. In order to evaluate the success of a shift, we used something we came up with to find the loss based on the slopes. That requires some hyperparameters for interval length and stride length, which refer to how long we take a local slope over and stride length refers to how spaced apart start points are. We took numbers that seemed reasonable for this as 25min interval length and 15min stride length [stride length < interval length allows for overlap]. There is a sample graph for this in the slides.\n",
    "\n",
    "Our trading strategy is as such: wait for the first half of the day until we have enough bars and perform cross correlation to find a the time shift. If such a shift exists, use the shift to trade. If the difference in slopes is greater than a predefined threshold (hyperparameter), and the asset that is leading has the greater slope, then buy. Do the same but in the downwards direction for selling.  \n",
    "\n",
    "\n",
    "## Results\n",
    "\n",
    "Overall, the trades were mostly positive, winning 52% of the trades made from our aforementioned strategy. Our strategy outperformed BTC heavily during the past 30 days, returning +66% (assuming each trade used 100% of account) while BTC returned -16%. \n",
    "\n",
    "Profit factor was 1.1 which is good considering the state of the market overall and that our strategy only went long. We considered a number of indicators that could work and that led to a working strategy. There are additional optimizations we can do, like online updates to cross correlation as data is coming in. Then, we still would want to try out additional hyperparameter tuning and try to limit losses by placing limits on the slope loss for indicators that we consider to be valid.\n",
    "\n",
    "Moreover, given the downtrend in the current market, it would be better if our strategy could play both long and short. This would just mean adding an additional entry parameter which the inverse of the long entry. Looking at the results by day, we can see a clear positive correlation between BTC's % change that day and our strategy's profitability. Thus, we hypothesize that adding a short entry signal would eliminate this long bias and make our strategy much more profitable in the current market environment. \n",
    "\n",
    "Adding on to this, again looking at the results by day, we can see that there are clearly days when the strategy works well (winrate >60%, avg win >> avg loss on those days) and when the strategy performs poorly (40% or less winrate, avg loss >> avg win). In the future, it would be good to add some way to filter the signals so that trades that are less likely to be profitable can be ignored. \n",
    "\n",
    "However, when looking at trades by token, we can see that QQQ-crypto pairings did not generate any edge. The best performing pairings were BTC-alt or alt-alt. Also, we did not account for slippage or fees in our backtesting. We don't think slippage would be affect profitability very significantly; however, there are no fee-free crypto exchanges currently, so fees would definitely hurt a high frequency strategy like this one.\n",
    "\n",
    "\n",
    "## Conclusion\n",
    "\n",
    "The results of this study were promising. We were able to generate a profit trading only long during a period of time when the markets were extremely bearish. Thus we can reasonably conclude that there does seem to be a significant edge in cross correlation trading. Our pilot study however was very brief and only scratched the surface. There is a lot more research that can and should be done on this topic, including examining different stocks and pairings, adding more and tuning existing hyperparameters, adding more features and indicators that could have predictive power to act as signals or filters to trigger/ignore trades, and more. \n",
    "\n",
    "\n",
    "\n"
   ]
  },
  {
   "cell_type": "code",
   "execution_count": 2,
   "metadata": {},
   "outputs": [],
   "source": [
    "import yfinance as yf\n",
    "import numpy as np\n",
    "import pandas as pd\n",
    "import matplotlib.pyplot as plt\n",
    "from scipy import signal\n",
    "from sklearn.linear_model import LinearRegression"
   ]
  },
  {
   "cell_type": "code",
   "execution_count": 3,
   "metadata": {},
   "outputs": [
    {
     "name": "stdout",
     "output_type": "stream",
     "text": [
      "[*********************100%***********************]  1 of 1 completed\n",
      "[*********************100%***********************]  1 of 1 completed\n"
     ]
    }
   ],
   "source": [
    "# Get the data\n",
    "qqq = yf.download(tickers=\"QQQ\", period=\"2d\", interval=\"1m\")\n",
    "btc = yf.download(tickers=\"BTC-USD\", period=\"2d\", interval=\"1m\")"
   ]
  },
  {
   "cell_type": "code",
   "execution_count": 4,
   "metadata": {},
   "outputs": [
    {
     "name": "stdout",
     "output_type": "stream",
     "text": [
      "                             Open_qqq    High_qqq     Low_qqq   Close_qqq  \\\n",
      "Datetime                                                                    \n",
      "2022-04-29 15:55:00-04:00  313.109985  313.420013  312.899994  313.100006   \n",
      "2022-04-29 15:56:00-04:00  313.089996  313.239990  312.809998  312.940002   \n",
      "2022-04-29 15:57:00-04:00  312.940002  312.940002  312.649994  312.747009   \n",
      "2022-04-29 15:59:00-04:00  312.940002  313.559998  312.600006  313.239990   \n",
      "2022-04-29 16:00:00-04:00  313.250000  313.250000  313.250000  313.250000   \n",
      "\n",
      "                           Adj Close_qqq  Volume_qqq      Open_btc  \\\n",
      "Datetime                                                             \n",
      "2022-04-29 15:55:00-04:00     313.100006     1012163  38235.535156   \n",
      "2022-04-29 15:56:00-04:00     312.940002      665858  38236.656250   \n",
      "2022-04-29 15:57:00-04:00     312.747009      854921  38260.964844   \n",
      "2022-04-29 15:59:00-04:00     313.239990     2119364  38301.105469   \n",
      "2022-04-29 16:00:00-04:00     313.250000           0  38310.246094   \n",
      "\n",
      "                               High_btc       Low_btc     Close_btc  \\\n",
      "Datetime                                                              \n",
      "2022-04-29 15:55:00-04:00  38235.535156  38235.535156  38235.535156   \n",
      "2022-04-29 15:56:00-04:00  38236.656250  38236.656250  38236.656250   \n",
      "2022-04-29 15:57:00-04:00  38260.964844  38260.964844  38260.964844   \n",
      "2022-04-29 15:59:00-04:00  38301.105469  38301.105469  38301.105469   \n",
      "2022-04-29 16:00:00-04:00  38310.246094  38310.246094  38310.246094   \n",
      "\n",
      "                           Adj Close_btc  Volume_btc  \n",
      "Datetime                                              \n",
      "2022-04-29 15:55:00-04:00   38235.535156    58343424  \n",
      "2022-04-29 15:56:00-04:00   38236.656250    13608960  \n",
      "2022-04-29 15:57:00-04:00   38260.964844    23250944  \n",
      "2022-04-29 15:59:00-04:00   38301.105469    72230912  \n",
      "2022-04-29 16:00:00-04:00   38310.246094     5863424  \n"
     ]
    }
   ],
   "source": [
    "df = qqq.merge(btc,how=\"inner\", left_on=\"Datetime\", right_on=\"Datetime\", suffixes=[\"_qqq\",\"_btc\"])\n",
    "print(df.tail())"
   ]
  },
  {
   "cell_type": "code",
   "execution_count": 5,
   "metadata": {},
   "outputs": [],
   "source": [
    "y1 = df['Close_qqq']\n",
    "y2 = df['Close_btc']\n",
    "y1 = (y1 - np.mean(y1)) / np.std(y1)\n",
    "y2 = (y2 - np.mean(y2)) / np.std(y2)"
   ]
  },
  {
   "cell_type": "code",
   "execution_count": 6,
   "metadata": {},
   "outputs": [
    {
     "data": {
      "text/plain": [
       "<matplotlib.legend.Legend at 0x1c2f09f0>"
      ]
     },
     "execution_count": 6,
     "metadata": {},
     "output_type": "execute_result"
    },
    {
     "data": {
      "image/png": "[encoded data removed]",
      "text/plain": [
       "<Figure size 432x288 with 1 Axes>"
      ]
     },
     "metadata": {
      "needs_background": "light"
     },
     "output_type": "display_data"
    }
   ],
   "source": [
    "plt.plot(range(len(y1)),y1, label=\"qqq\")\n",
    "plt.plot(range(len(y2)),y2, label=\"btc\")\n",
    "plt.legend()"
   ]
  },
  {
   "cell_type": "markdown",
   "metadata": {},
   "source": [
    "# EDA \n",
    "\n",
    "We used the yfinance library, so there wasn’t a need to do much data cleaning for EDA. The downside was that the minute data is limited to only a short period of time for download. \n",
    "\n",
    "We looked at BTC and QQQ 5 day price histories to see if they were correlated. They indeed looked correlated. We then normalized the closing prices and performed cross correlation and found BTC to be ahead of QQQ by a number of minutes. We then applied that shift to the price chart."
   ]
  },
  {
   "cell_type": "code",
   "execution_count": 65,
   "metadata": {},
   "outputs": [
    {
     "name": "stdout",
     "output_type": "stream",
     "text": [
      "(0, 4657.263934995171)\n"
     ]
    }
   ],
   "source": [
    "def max_offset(df1, df2):\n",
    "#     print(len(df1), len(df2))\n",
    "    corrs = signal.correlate(df1, df2, mode='full')\n",
    "    return np.argmax(corrs) - len(df1) + 1, corrs[np.argmax(corrs)]\n",
    "print(max_offset(y1,y2))"
   ]
  },
  {
   "cell_type": "code",
   "execution_count": null,
   "metadata": {},
   "outputs": [],
   "source": [
    "global_period = \"1d\"\n",
    "global_interval = \"1m\""
   ]
  },
  {
   "cell_type": "code",
   "execution_count": 67,
   "metadata": {
    "scrolled": true
   },
   "outputs": [
    {
     "name": "stdout",
     "output_type": "stream",
     "text": [
      "[*********************100%***********************]  1 of 1 completed\n",
      "[*********************100%***********************]  1 of 1 completed\n"
     ]
    },
    {
     "data": {
      "image/png": "[encoded data removed]",
      "text/plain": [
       "<Figure size 432x288 with 1 Axes>"
      ]
     },
     "metadata": {
      "needs_background": "light"
     },
     "output_type": "display_data"
    },
    {
     "name": "stdout",
     "output_type": "stream",
     "text": [
      "(0, 946.4194546463453)\n",
      "[*********************100%***********************]  1 of 1 completed\n",
      "[*********************100%***********************]  1 of 1 completed\n"
     ]
    },
    {
     "data": {
      "image/png": "[encoded data removed]",
      "text/plain": [
       "<Figure size 432x288 with 1 Axes>"
      ]
     },
     "metadata": {
      "needs_background": "light"
     },
     "output_type": "display_data"
    },
    {
     "name": "stdout",
     "output_type": "stream",
     "text": [
      "0       0.527238\n",
      "1       0.638272\n",
      "2       0.416230\n",
      "3       0.813154\n",
      "4       0.935293\n",
      "          ...   \n",
      "1201   -2.401316\n",
      "1202   -2.445731\n",
      "1203   -2.499304\n",
      "1204   -2.362458\n",
      "1205   -2.359680\n",
      "Name: Close_a, Length: 1206, dtype: float64 0      -0.642669\n",
      "1      -0.705889\n",
      "2      -0.737525\n",
      "3      -0.817434\n",
      "4      -0.768994\n",
      "          ...   \n",
      "1201   -1.695561\n",
      "1202   -1.693479\n",
      "1203   -1.648346\n",
      "1204   -1.573819\n",
      "1205   -1.556848\n",
      "Name: Close_b, Length: 1206, dtype: float64\n",
      "(0, 46216.12912316974, [(0.003312828682910043, 0), (0.010361012023485827, 15), (0.027814768926969637, 30), (0.022865170454147123, 45), (0.008536417029482095, 60), (0.008075500805114115, 75), (0.010451413964966984, 90), (0.019641892144205225, 105), (0.009472031991638732, 120), (0.003665410210419343, 135), (0.008744879699222606, 150), (0.014656485337404171, 165), (0.054979393520618564, 180), (0.0002175704849556731, 195), (0.0007731330676298692, 210), (0.03842025890947595, 225), (0.01989292295326676, 240), (0.0003647251834550391, 255), (0.013885955441682907, 270), (0.013791794098319023, 285), (0.020541302342006688, 300), (0.047048304868519214, 315), (0.03287779813465843, 330), (0.0009189630083463254, 345), (0.01286867161818751, 360), (0.005050821659427345, 375), (0.013114394246981744, 390), (0.008018794844573815, 405), (0.02208435209776543, 420), (0.008413157240326902, 435), (0.04605647126099074, 450), (0.050371437643642006, 465), (0.014922343083893654, 480), (0.015297467875301313, 495), (0.02473617942348555, 510), (0.004427322587118919, 525), (0.024517634205052628, 540), (0.005479128169738563, 555), (0.007105529710965213, 570), (0.007939209416075324, 585), (0.0002511208760096143, 600), (0.0038056653633567364, 615), (0.0027635913902583666, 630), (0.00043886072118177327, 645), (0.015580585169846138, 660), (0.0012031873834509443, 675), (0.00017159046951145673, 690), (0.002320095781189583, 705), (0.019361970977113306, 720), (0.020647190960588327, 735), (0.025889229845146872, 750), (0.01701114487746257, 765), (0.02319806392225891, 780), (0.01612155032266568, 795), (0.02307088670025224, 810), (0.012654261405217686, 825), (0.013653857082472366, 840), (0.005698718326254248, 855), (0.00794954958442236, 870), (0.012775961235214033, 885), (0.02385857377189017, 900), (0.00508874922625669, 915), (0.0064304926439538255, 930), (0.03803396951353835, 945), (0.009411265524962825, 960), (0.032344978962566814, 975), (0.00903878993207546, 990), (0.0021572959914183476, 1005), (0.0008119676373772294, 1020), (0.02316394580852251, 1035), (0.010384015663285923, 1050), (0.022276211210064043, 1065), (0.006506206133940677, 1080), (0.006666439885243885, 1095), (0.017985433183299458, 1110), (0.010244693023390797, 1125), (0.00816788922726695, 1140), (0.008501809747237557, 1155), (0.001770511902076945, 1170)])\n"
     ]
    },
    {
     "data": {
      "image/png": "[encoded data removed]",
      "text/plain": [
       "<Figure size 432x288 with 1 Axes>"
      ]
     },
     "metadata": {
      "needs_background": "light"
     },
     "output_type": "display_data"
    }
   ],
   "source": [
    "def ticker_offset(str1, str2, silent=False):\n",
    "    a = yf.download(tickers=str1, period=global_period, interval=global_interval)\n",
    "    b = yf.download(tickers=str2, period=global_period, interval=global_interval)\n",
    "    df = a.merge(b,how=\"inner\", left_on=\"Datetime\", right_on=\"Datetime\", suffixes=[\"_a\",\"_b\"])\n",
    "    y1 = df['Close_a']\n",
    "    y2 = df['Close_b']\n",
    "    y1 = (y1 - np.mean(y1)) / np.std(y1)\n",
    "    y2 = (y2 - np.mean(y2)) / np.std(y2)\n",
    "    if not silent:\n",
    "        plt.plot(range(len(y1)),y1, label=str1)\n",
    "        plt.plot(range(len(y2)),y2, label=str2)\n",
    "        plt.legend()\n",
    "        plt.title(\"Normalized price over last day [minute data]\")\n",
    "        plt.ylabel(\"Normalized price\")\n",
    "        plt.xlabel(\"minute\")\n",
    "        plt.show()\n",
    "    return max_offset(y1,y2)\n",
    "\n",
    "def ticker_offset_slope_loss(str1, str2, silent=False):\n",
    "    a = yf.download(tickers=str1, period=global_period, interval=global_interval)\n",
    "    b = yf.download(tickers=str2, period=global_period, interval=global_interval)\n",
    "    df = a.merge(b,how=\"inner\", left_on=\"Datetime\", right_on=\"Datetime\", suffixes=[\"_a\",\"_b\"])\n",
    "    y1 = df['Close_a']\n",
    "    y2 = df['Close_b']\n",
    "    y1 = (y1 - np.mean(y1)) / np.std(y1)\n",
    "    y2 = (y2 - np.mean(y2)) / np.std(y2)\n",
    "    if not silent:\n",
    "        plt.plot(range(len(y1)),y1, label=str1)\n",
    "        plt.plot(range(len(y2)),y2, label=str2)\n",
    "        plt.legend()\n",
    "        plt.title(\"Normalized price over last day [minute data]\")\n",
    "        plt.ylabel(\"Normalized price\")\n",
    "        plt.xlabel(\"minute\")\n",
    "        plt.show()\n",
    "    offset = max_offset(y1,y2)[0]\n",
    "    b[\"Datetime_shift\"] = b.index + pd.Timedelta(minutes=offset)\n",
    "    shift_df = a.merge(b,how=\"inner\", left_on=\"Datetime\", right_on=\"Datetime_shift\", suffixes=[\"_a\",\"_b\"])\n",
    "    y1 = shift_df['Close_a']\n",
    "    y2 = shift_df['Close_b']\n",
    "    y1_original = y1[:]\n",
    "    y2_original = y2[:]\n",
    "    \n",
    "    y1 = (y1 - np.mean(y1)) / np.std(y1)\n",
    "    y2 = (y2 - np.mean(y2)) / np.std(y2)\n",
    "    print(y1, y2)\n",
    "    f, ax = plt.subplots()\n",
    "    def slope_loss(k, s):\n",
    "        diffs = []\n",
    "        for i in range(0, len(y1)-k, s):\n",
    "            xs = np.array(range(i, i+k)).reshape(-1, 1)\n",
    "            line1 = LinearRegression().fit(xs, y1[i:i+k])\n",
    "            starty = line1.predict([xs[0]])\n",
    "            endy = line1.predict([xs[-1]])\n",
    "            ax.plot([xs[0], xs[-1]], [starty, endy])\n",
    "            reg1 = line1.coef_[0]\n",
    "            #print(\"Slope 1 \", reg1)\n",
    "            line2 = LinearRegression().fit(xs, y2[i:i+k])\n",
    "            reg2 = line2.coef_[0]\n",
    "            starty = line2.predict([xs[0]])\n",
    "            endy = line2.predict([xs[-1]])\n",
    "            ax.plot([xs[0], xs[-1]], [starty, endy])\n",
    "            #print(\"Slope 2\", reg2)\n",
    "#             print(type(xs[0]))\n",
    "            diffs.append((abs(reg1-reg2), list(xs[0])[0]))\n",
    "#             if i*s < len(y1)-k: \n",
    "#                 print(shift_df.iloc[i * s, :])\n",
    "#         print(np.where(shift_df[shift_df[]))\n",
    "\n",
    "        #print(diffs)\n",
    "        return np.sum(diffs), diffs\n",
    "        \n",
    "    total_slope_loss, diffs = slope_loss(30, 15)\n",
    "    if not silent:\n",
    "        ax.plot(range(len(y1)),y1, label=str1)\n",
    "        ax.plot(range(len(y2)),y2, label=str2)\n",
    "        ax.legend()\n",
    "        ax.set_title(\"Shifted price over last day [minute data]\")\n",
    "        #ax.ylabel(\"Normalized price\")\n",
    "        #ax.xlabel(\"minute\")\n",
    "        #ax.show()\n",
    "    return offset, total_slope_loss, diffs, y1_original, y2_original\n",
    "print(ticker_offset(\"QQQ\",\"BTC-USD\"))\n",
    "print(ticker_offset_slope_loss(\"QQQ\",\"BTC-USD\")[:3])\n",
    "\n"
   ]
  },
  {
   "cell_type": "markdown",
   "metadata": {},
   "source": [
    "# Methods\n",
    "\n",
    "We realized an issue of cross-correlation is that it is influenced a lot by magnitudes. We care a lot more about the slopes.\n",
    "\n",
    "Our idea: SLOPE LOSS. Use the difference in slopes of the regression line in the loss function. Hyperparameters: stride of slope intervals, length of slope interval.\n",
    "\n",
    "Our method was centered around performing cross-correlation to see the shift in time that two assets have. So, once we identify a shift in the earlier portion of a day’s data and see the quality of that shift, we can trade off of that for the rest of the day. Some things we could do in the future are vary the level at which we want to trade and such, but for the purposes of this project, we focused on implementing the strategy. In order to evaluate the success of a shift, we used something we came up with to find the loss based on the slopes. That requires some hyperparameters for interval length and stride length, which refer to how long we take a local slope over and stride length refers to how spaced apart start points are. We took numbers that seemed reasonable for this as 25min interval length and 15min stride length [stride length < interval length allows for overlap]. There is a sample graph for this in the slides.\n",
    "\n",
    "Our trading strategy is as such: wait for the first half of the day until we have enough bars and perform cross correlation to find a the time shift. If such a shift exists, use the shift to trade. If the difference in slopes is greater than a predefined threshold (hyperparameter), and the asset that is leading has the greater slope, then buy. Do the same but in the downwards direction for selling.  "
   ]
  },
  {
   "cell_type": "code",
   "execution_count": 146,
   "metadata": {
    "scrolled": true
   },
   "outputs": [],
   "source": [
    "## Early ticker offset does not plot and only uses the \n",
    "# first half of the data to find the shift for correlation\n",
    "from datetime import timedelta\n",
    "global_interval = \"1m\"\n",
    "\n",
    "def early_ticker_offset(str1, str2, start_date):\n",
    "    start_ts = pd.Timestamp(start_date)\n",
    "    end_ts = start_ts + timedelta(days=1)\n",
    "    end_date = str(end_ts).split()[0]\n",
    "    a = yf.download(tickers=str1, interval=global_interval, start=start_date, end=end_date, progress=False)\n",
    "    b = yf.download(tickers=str2, interval=global_interval, start=start_date, end=end_date, progress=False)\n",
    "    df = a.merge(b,how=\"inner\", left_on=\"Datetime\", right_on=\"Datetime\", suffixes=[\"_a\",\"_b\"])\n",
    "    \n",
    "    ## Use only the first half of the day\n",
    "    df = df[:len(df)//2]\n",
    "    y1 = df['Close_a']\n",
    "    y2 = df['Close_b']\n",
    "    y1_original = y1[:]\n",
    "    y2_original = y2[:]\n",
    "    \n",
    "    y1 = (y1 - np.mean(y1)) / np.std(y1)\n",
    "    y2 = (y2 - np.mean(y2)) / np.std(y2)\n",
    "\n",
    "    offset = max_offset(y1,y2)[0]\n",
    "    b[\"Datetime_shift\"] = b.index + pd.Timedelta(minutes=offset)\n",
    "    shift_df = a.merge(b,how=\"inner\", left_on=\"Datetime\", right_on=\"Datetime_shift\", suffixes=[\"_a\",\"_b\"])\n",
    "    y1 = shift_df['Close_a'][:len(df)//2]\n",
    "    y2 = shift_df['Close_b'][:len(df)//2]\n",
    "    y1 = (y1 - np.mean(y1)) / np.std(y1)\n",
    "    y2 = (y2 - np.mean(y2)) / np.std(y2)\n",
    "    \n",
    "    def slope_loss(k, s):\n",
    "        diffs = []\n",
    "        for i in range(0,len(y1)-k, s):\n",
    "            xs = np.array(range(i,i+k)).reshape(-1, 1)\n",
    "            line1 = LinearRegression().fit(xs, y1[i:i+k])\n",
    "            starty = line1.predict([xs[0]])\n",
    "            endy = line1.predict([xs[-1]])\n",
    "\n",
    "            reg1 = line1.coef_[0]\n",
    "            #print(\"Slope 1 \", reg1)\n",
    "            line2 = LinearRegression().fit(xs, y2[i:i+k])\n",
    "            reg2 = line2.coef_[0]\n",
    "            starty = line2.predict([xs[0]])\n",
    "            endy = line2.predict([xs[-1]])\n",
    "\n",
    "            #print(\"Slope 2\", reg2)\n",
    "            diffs.append((abs(reg1-reg2), list(xs[0])[0]))\n",
    "        #print(diffs)\n",
    "        return np.sum(diffs), diffs\n",
    "        \n",
    "    total_slope_loss, diffs = slope_loss(30, 15)\n",
    "    return offset, total_slope_loss, diffs, y1_original, y2_original\n",
    "\n",
    "def backtest_one_day(date_str):\n",
    "    token_diffs = {}\n",
    "    y1y2_original = {}\n",
    "    tokens = [\"QQQ\", \"BTC-USD\", \"ETH-USD\", \"BNB-USD\", \"XRP-USD\", \"LUNA1-USD\", \"ADA-USD\", \"ALGO-USD\", \"XRP-USD\", \"LUNA1-USD\", \"ADA-USD\", \"HEX-USD\", \"AVAX-USD\", \"DOGE-USD\"] # \n",
    "    offset_matrix = {}\n",
    "\n",
    "    for idx1, token1 in enumerate(tokens):\n",
    "        for idx2, token2 in enumerate(tokens):\n",
    "            if token1 == token2: \n",
    "                continue\n",
    "            offset, sl, diffs, y1, y2 = early_ticker_offset(token1, token2, date_str)\n",
    "            pair_symbol = token1 + token2\n",
    "    #         print(pair_symbol)\n",
    "            offset_matrix[pair_symbol] = offset\n",
    "            token_diffs[pair_symbol] = diffs\n",
    "            y1y2_original[pair_symbol] = (y1, y2)\n",
    "    #         print(offset_matrix, token_diffs, y1y2_original)\n",
    "            ##filter for time shifts that make sense and that we can use\n",
    "            # 15min shift is the limit we picked, and <0 so we can use it to trade\n",
    "            # if -15<offset<0:\n",
    "            #     print(token1, token2, offset, \"slope loss\", sl, diffs)\n",
    "    \n",
    "    trading_trigger_threshold = 0.01\n",
    "    pair_symbols = offset_matrix.keys()\n",
    "    pnls = []\n",
    "    pnls_dict = {}\n",
    "    all_trades = []\n",
    "    trades_dict = {}\n",
    "    for pair_symbol in pair_symbols:\n",
    "        offset = offset_matrix[pair_symbol] \n",
    "        diffs = token_diffs[pair_symbol]  \n",
    "        y1_original, y2_original = y1y2_original[pair_symbol]    \n",
    "        # print(f\"Starting {pair_symbol}\")\n",
    "        pnl = 0\n",
    "        hold = False\n",
    "        enter_price = 0\n",
    "        for i in range(len(diffs)-1):\n",
    "            if diffs[i+1][0] - diffs[i][0] > trading_trigger_threshold and hold is False: # and diffs[i+1][1]+offset < max_timestamp: # buy\n",
    "                # pnl -= y2_original[diffs[i+1][1]]\n",
    "                hold = True\n",
    "                enter_price = y2_original[diffs[i+1][1]]\n",
    "                # print(f\"Buy @ {y2_original[diffs[i+1][1]]:.4f} | P/L: {pnl}\")\n",
    "            elif diffs[i][0] - diffs[i+1][0] > trading_trigger_threshold and hold is True: # and diffs[i+1][1]+offset < max_timestamp: # sell\n",
    "                exit_price = y2_original[diffs[i+1][1]]\n",
    "                result = 100*(exit_price - enter_price) / enter_price\n",
    "                pnl += result\n",
    "                all_trades.append(result)\n",
    "                pair_trades = trades_dict.get(pair_symbol, [])\n",
    "                pair_trades.append(result)\n",
    "                trades_dict[pair_symbol] = pair_trades\n",
    "                hold = False\n",
    "                # print(f\"Sell @ {y2_original[diffs[i+1][1]]:.4f} | P/L: {pnl}\")\n",
    "        if hold:\n",
    "            exit_price = y2_original[diffs[-1][1]]\n",
    "            result = 100*(exit_price - enter_price) / enter_price\n",
    "            pnl += result\n",
    "            all_trades.append(result)\n",
    "            pair_trades = trades_dict.get(pair_symbol, [])\n",
    "            pair_trades.append(result)\n",
    "            trades_dict[pair_symbol] = pair_trades\n",
    "            hold = False\n",
    "            # print(f\"Sell @ {y2_original[diffs[-1][1]]:.4f} | P/L: {pnl}\")\n",
    "        pnls.append(pnl)\n",
    "        pnls_dict[pair_symbol] = pnls_dict.get(pair_symbol, 0) + pnl\n",
    "        # print(f\"Ending {pair_symbol} | P/L %: {pnl:.2f}\")\n",
    "    pair_symbols = offset_matrix.keys()\n",
    "    return ([*pair_symbols], pnls, pnls_dict, all_trades, trades_dict)\n",
    "    # plt.figure(figsize=(25, 15))\n",
    "    # plt.bar(pair_symbols, pnls)\n",
    "    # plt.title(\"Our Strategy's P/L Percent for Each Pairing Traded\")\n",
    "    # plt.xlabel(\"Pairing Traded\")\n",
    "    # plt.ylabel(\"P/L %\")\n",
    "    # plt.xticks(rotation='vertical')\n",
    "    # plt.show()\n",
    "\n",
    "\n"
   ]
  },
  {
   "cell_type": "code",
   "execution_count": 119,
   "metadata": {},
   "outputs": [],
   "source": [
    "def plot_results(pair_symbols, pnls):\n",
    "    plt.figure(figsize=(25, 15))\n",
    "    plt.bar(pair_symbols, pnls)\n",
    "    plt.title(\"Our Strategy's P/L Percent for Each Pairing Traded\")\n",
    "    plt.xlabel(\"Pairing Traded\")\n",
    "    plt.ylabel(\"P/L %\")\n",
    "    plt.xticks(rotation='vertical')\n",
    "    plt.show()\n",
    "    \n",
    "# symbols, pnls, pnls_dict, all_trades, trades_dict = backtest_one_day(\"2022-04-29\")\n",
    "# plot_results(symbols, pnls)"
   ]
  },
  {
   "cell_type": "code",
   "execution_count": 120,
   "metadata": {},
   "outputs": [],
   "source": [
    "def stats(trades, name):\n",
    "    def sub_stats(trades, name):\n",
    "        if not len(trades):\n",
    "            return\n",
    "        avg = np.mean(trades)\n",
    "        sd = np.std(trades)\n",
    "        print(f\"{name} | Avg Trade {avg:.2f}% | SD {sd:.2f}%\")\n",
    "    \n",
    "    wins = trades[trades > 0]\n",
    "    losses = trades[trades < 0]\n",
    "    scratch = trades[trades == 0]\n",
    "    if not len(trades) or len(scratch) == len(trades):\n",
    "        return\n",
    "    print(f\"{name} | Total P/L % :: {np.sum(trades):.2f}%\")\n",
    "    print(f\"Winrate {100*len(wins) / (len(trades) - len(scratch)):.2f}% | {len(trades)} Trades, {len(wins)} Winners, {len(losses)} Losers, {len(scratch)} Breakeven\")\n",
    "    sub_stats(trades, \"All Trades\")\n",
    "    sub_stats(wins, \"Winners\")\n",
    "    sub_stats(losses, \"Losers\")\n",
    "    print(f\"Profit Factor: {abs(np.sum(wins) / np.sum(losses))} | Gross Profit: {np.sum(wins):.2f}% | Gross Loss: {np.sum(losses):.2f}%\")"
   ]
  },
  {
   "cell_type": "code",
   "execution_count": null,
   "metadata": {},
   "outputs": [],
   "source": [
    "history = {}"
   ]
  },
  {
   "cell_type": "code",
   "execution_count": 157,
   "metadata": {},
   "outputs": [
    {
     "name": "stdout",
     "output_type": "stream",
     "text": [
      "Ignoring 2022-04-16\n",
      "Ignoring 2022-04-17\n",
      "Done with 2022-04-18\n",
      "Done with 2022-04-19\n",
      "Done with 2022-04-20\n",
      "Done with 2022-04-21\n",
      "Done with 2022-04-22\n",
      "Ignoring 2022-04-23\n",
      "Ignoring 2022-04-24\n",
      "Done with 2022-04-25\n",
      "Done with 2022-04-26\n",
      "Done with 2022-04-27\n",
      "Done with 2022-04-28\n",
      "Done with 2022-04-29\n",
      "Ignoring 2022-04-30\n",
      "Ignoring 2022-05-01\n",
      "\n",
      "1 Failed download:\n",
      "- QQQ: Data doesn't exist for startDate = 1651464000, endDate = 1651550400\n",
      "\n",
      "1 Failed download:\n",
      "- BTC-USD: Data doesn't exist for startDate = 1651464000, endDate = 1651550400\n"
     ]
    },
    {
     "ename": "KeyError",
     "evalue": "'Datetime'",
     "output_type": "error",
     "traceback": [
      "\u001b[1;31m---------------------------------------------------------------------------\u001b[0m",
      "\u001b[1;31mKeyError\u001b[0m                                  Traceback (most recent call last)",
      "\u001b[1;32m~\\AppData\\Local\\Temp\\ipykernel_5828\\1865177975.py\u001b[0m in \u001b[0;36m<module>\u001b[1;34m\u001b[0m\n\u001b[0;32m     10\u001b[0m         \u001b[0mcurrent_date\u001b[0m \u001b[1;33m+=\u001b[0m \u001b[0mdelt\u001b[0m\u001b[1;33m\u001b[0m\u001b[1;33m\u001b[0m\u001b[0m\n\u001b[0;32m     11\u001b[0m         \u001b[1;32mcontinue\u001b[0m\u001b[1;33m\u001b[0m\u001b[1;33m\u001b[0m\u001b[0m\n\u001b[1;32m---> 12\u001b[1;33m     \u001b[0mhistory\u001b[0m\u001b[1;33m[\u001b[0m\u001b[0mcur_date_str\u001b[0m\u001b[1;33m]\u001b[0m \u001b[1;33m=\u001b[0m \u001b[0mbacktest_one_day\u001b[0m\u001b[1;33m(\u001b[0m\u001b[0mcur_date_str\u001b[0m\u001b[1;33m)\u001b[0m\u001b[1;33m\u001b[0m\u001b[1;33m\u001b[0m\u001b[0m\n\u001b[0m\u001b[0;32m     13\u001b[0m     \u001b[0mprint\u001b[0m\u001b[1;33m(\u001b[0m\u001b[1;34m\"Done with\"\u001b[0m\u001b[1;33m,\u001b[0m\u001b[0mcur_date_str\u001b[0m\u001b[1;33m)\u001b[0m\u001b[1;33m\u001b[0m\u001b[1;33m\u001b[0m\u001b[0m\n\u001b[0;32m     14\u001b[0m     \u001b[0mcurrent_date\u001b[0m \u001b[1;33m+=\u001b[0m \u001b[0mdelt\u001b[0m\u001b[1;33m\u001b[0m\u001b[1;33m\u001b[0m\u001b[0m\n",
      "\u001b[1;32m~\\AppData\\Local\\Temp\\ipykernel_5828\\3365857005.py\u001b[0m in \u001b[0;36mbacktest_one_day\u001b[1;34m(date_str)\u001b[0m\n\u001b[0;32m     63\u001b[0m             \u001b[1;32mif\u001b[0m \u001b[0mtoken1\u001b[0m \u001b[1;33m==\u001b[0m \u001b[0mtoken2\u001b[0m\u001b[1;33m:\u001b[0m\u001b[1;33m\u001b[0m\u001b[1;33m\u001b[0m\u001b[0m\n\u001b[0;32m     64\u001b[0m                 \u001b[1;32mcontinue\u001b[0m\u001b[1;33m\u001b[0m\u001b[1;33m\u001b[0m\u001b[0m\n\u001b[1;32m---> 65\u001b[1;33m             \u001b[0moffset\u001b[0m\u001b[1;33m,\u001b[0m \u001b[0msl\u001b[0m\u001b[1;33m,\u001b[0m \u001b[0mdiffs\u001b[0m\u001b[1;33m,\u001b[0m \u001b[0my1\u001b[0m\u001b[1;33m,\u001b[0m \u001b[0my2\u001b[0m \u001b[1;33m=\u001b[0m \u001b[0mearly_ticker_offset\u001b[0m\u001b[1;33m(\u001b[0m\u001b[0mtoken1\u001b[0m\u001b[1;33m,\u001b[0m \u001b[0mtoken2\u001b[0m\u001b[1;33m,\u001b[0m \u001b[0mdate_str\u001b[0m\u001b[1;33m)\u001b[0m\u001b[1;33m\u001b[0m\u001b[1;33m\u001b[0m\u001b[0m\n\u001b[0m\u001b[0;32m     66\u001b[0m             \u001b[0mpair_symbol\u001b[0m \u001b[1;33m=\u001b[0m \u001b[0mtoken1\u001b[0m \u001b[1;33m+\u001b[0m \u001b[0mtoken2\u001b[0m\u001b[1;33m\u001b[0m\u001b[1;33m\u001b[0m\u001b[0m\n\u001b[0;32m     67\u001b[0m     \u001b[1;31m#         print(pair_symbol)\u001b[0m\u001b[1;33m\u001b[0m\u001b[1;33m\u001b[0m\u001b[1;33m\u001b[0m\u001b[0m\n",
      "\u001b[1;32m~\\AppData\\Local\\Temp\\ipykernel_5828\\3365857005.py\u001b[0m in \u001b[0;36mearly_ticker_offset\u001b[1;34m(str1, str2, start_date)\u001b[0m\n\u001b[0;32m     10\u001b[0m     \u001b[0ma\u001b[0m \u001b[1;33m=\u001b[0m \u001b[0myf\u001b[0m\u001b[1;33m.\u001b[0m\u001b[0mdownload\u001b[0m\u001b[1;33m(\u001b[0m\u001b[0mtickers\u001b[0m\u001b[1;33m=\u001b[0m\u001b[0mstr1\u001b[0m\u001b[1;33m,\u001b[0m \u001b[0minterval\u001b[0m\u001b[1;33m=\u001b[0m\u001b[0mglobal_interval\u001b[0m\u001b[1;33m,\u001b[0m \u001b[0mstart\u001b[0m\u001b[1;33m=\u001b[0m\u001b[0mstart_date\u001b[0m\u001b[1;33m,\u001b[0m \u001b[0mend\u001b[0m\u001b[1;33m=\u001b[0m\u001b[0mend_date\u001b[0m\u001b[1;33m,\u001b[0m \u001b[0mprogress\u001b[0m\u001b[1;33m=\u001b[0m\u001b[1;32mFalse\u001b[0m\u001b[1;33m)\u001b[0m\u001b[1;33m\u001b[0m\u001b[1;33m\u001b[0m\u001b[0m\n\u001b[0;32m     11\u001b[0m     \u001b[0mb\u001b[0m \u001b[1;33m=\u001b[0m \u001b[0myf\u001b[0m\u001b[1;33m.\u001b[0m\u001b[0mdownload\u001b[0m\u001b[1;33m(\u001b[0m\u001b[0mtickers\u001b[0m\u001b[1;33m=\u001b[0m\u001b[0mstr2\u001b[0m\u001b[1;33m,\u001b[0m \u001b[0minterval\u001b[0m\u001b[1;33m=\u001b[0m\u001b[0mglobal_interval\u001b[0m\u001b[1;33m,\u001b[0m \u001b[0mstart\u001b[0m\u001b[1;33m=\u001b[0m\u001b[0mstart_date\u001b[0m\u001b[1;33m,\u001b[0m \u001b[0mend\u001b[0m\u001b[1;33m=\u001b[0m\u001b[0mend_date\u001b[0m\u001b[1;33m,\u001b[0m \u001b[0mprogress\u001b[0m\u001b[1;33m=\u001b[0m\u001b[1;32mFalse\u001b[0m\u001b[1;33m)\u001b[0m\u001b[1;33m\u001b[0m\u001b[1;33m\u001b[0m\u001b[0m\n\u001b[1;32m---> 12\u001b[1;33m     \u001b[0mdf\u001b[0m \u001b[1;33m=\u001b[0m \u001b[0ma\u001b[0m\u001b[1;33m.\u001b[0m\u001b[0mmerge\u001b[0m\u001b[1;33m(\u001b[0m\u001b[0mb\u001b[0m\u001b[1;33m,\u001b[0m\u001b[0mhow\u001b[0m\u001b[1;33m=\u001b[0m\u001b[1;34m\"inner\"\u001b[0m\u001b[1;33m,\u001b[0m \u001b[0mleft_on\u001b[0m\u001b[1;33m=\u001b[0m\u001b[1;34m\"Datetime\"\u001b[0m\u001b[1;33m,\u001b[0m \u001b[0mright_on\u001b[0m\u001b[1;33m=\u001b[0m\u001b[1;34m\"Datetime\"\u001b[0m\u001b[1;33m,\u001b[0m \u001b[0msuffixes\u001b[0m\u001b[1;33m=\u001b[0m\u001b[1;33m[\u001b[0m\u001b[1;34m\"_a\"\u001b[0m\u001b[1;33m,\u001b[0m\u001b[1;34m\"_b\"\u001b[0m\u001b[1;33m]\u001b[0m\u001b[1;33m)\u001b[0m\u001b[1;33m\u001b[0m\u001b[1;33m\u001b[0m\u001b[0m\n\u001b[0m\u001b[0;32m     13\u001b[0m \u001b[1;33m\u001b[0m\u001b[0m\n\u001b[0;32m     14\u001b[0m     \u001b[1;31m## Use only the first half of the day\u001b[0m\u001b[1;33m\u001b[0m\u001b[1;33m\u001b[0m\u001b[1;33m\u001b[0m\u001b[0m\n",
      "\u001b[1;32mc:\\Users\\Andrew\\Documents\\git_repos\\BinancePublicData\\venv\\lib\\site-packages\\pandas\\core\\frame.py\u001b[0m in \u001b[0;36mmerge\u001b[1;34m(self, right, how, on, left_on, right_on, left_index, right_index, sort, suffixes, copy, indicator, validate)\u001b[0m\n\u001b[0;32m   9201\u001b[0m             \u001b[0mcopy\u001b[0m\u001b[1;33m=\u001b[0m\u001b[0mcopy\u001b[0m\u001b[1;33m,\u001b[0m\u001b[1;33m\u001b[0m\u001b[1;33m\u001b[0m\u001b[0m\n\u001b[0;32m   9202\u001b[0m             \u001b[0mindicator\u001b[0m\u001b[1;33m=\u001b[0m\u001b[0mindicator\u001b[0m\u001b[1;33m,\u001b[0m\u001b[1;33m\u001b[0m\u001b[1;33m\u001b[0m\u001b[0m\n\u001b[1;32m-> 9203\u001b[1;33m             \u001b[0mvalidate\u001b[0m\u001b[1;33m=\u001b[0m\u001b[0mvalidate\u001b[0m\u001b[1;33m,\u001b[0m\u001b[1;33m\u001b[0m\u001b[1;33m\u001b[0m\u001b[0m\n\u001b[0m\u001b[0;32m   9204\u001b[0m         )\n\u001b[0;32m   9205\u001b[0m \u001b[1;33m\u001b[0m\u001b[0m\n",
      "\u001b[1;32mc:\\Users\\Andrew\\Documents\\git_repos\\BinancePublicData\\venv\\lib\\site-packages\\pandas\\core\\reshape\\merge.py\u001b[0m in \u001b[0;36mmerge\u001b[1;34m(left, right, how, on, left_on, right_on, left_index, right_index, sort, suffixes, copy, indicator, validate)\u001b[0m\n\u001b[0;32m    117\u001b[0m         \u001b[0mcopy\u001b[0m\u001b[1;33m=\u001b[0m\u001b[0mcopy\u001b[0m\u001b[1;33m,\u001b[0m\u001b[1;33m\u001b[0m\u001b[1;33m\u001b[0m\u001b[0m\n\u001b[0;32m    118\u001b[0m         \u001b[0mindicator\u001b[0m\u001b[1;33m=\u001b[0m\u001b[0mindicator\u001b[0m\u001b[1;33m,\u001b[0m\u001b[1;33m\u001b[0m\u001b[1;33m\u001b[0m\u001b[0m\n\u001b[1;32m--> 119\u001b[1;33m         \u001b[0mvalidate\u001b[0m\u001b[1;33m=\u001b[0m\u001b[0mvalidate\u001b[0m\u001b[1;33m,\u001b[0m\u001b[1;33m\u001b[0m\u001b[1;33m\u001b[0m\u001b[0m\n\u001b[0m\u001b[0;32m    120\u001b[0m     )\n\u001b[0;32m    121\u001b[0m     \u001b[1;32mreturn\u001b[0m \u001b[0mop\u001b[0m\u001b[1;33m.\u001b[0m\u001b[0mget_result\u001b[0m\u001b[1;33m(\u001b[0m\u001b[1;33m)\u001b[0m\u001b[1;33m\u001b[0m\u001b[1;33m\u001b[0m\u001b[0m\n",
      "\u001b[1;32mc:\\Users\\Andrew\\Documents\\git_repos\\BinancePublicData\\venv\\lib\\site-packages\\pandas\\core\\reshape\\merge.py\u001b[0m in \u001b[0;36m__init__\u001b[1;34m(self, left, right, how, on, left_on, right_on, axis, left_index, right_index, sort, suffixes, copy, indicator, validate)\u001b[0m\n\u001b[0;32m    697\u001b[0m             \u001b[0mself\u001b[0m\u001b[1;33m.\u001b[0m\u001b[0mright_join_keys\u001b[0m\u001b[1;33m,\u001b[0m\u001b[1;33m\u001b[0m\u001b[1;33m\u001b[0m\u001b[0m\n\u001b[0;32m    698\u001b[0m             \u001b[0mself\u001b[0m\u001b[1;33m.\u001b[0m\u001b[0mjoin_names\u001b[0m\u001b[1;33m,\u001b[0m\u001b[1;33m\u001b[0m\u001b[1;33m\u001b[0m\u001b[0m\n\u001b[1;32m--> 699\u001b[1;33m         ) = self._get_merge_keys()\n\u001b[0m\u001b[0;32m    700\u001b[0m \u001b[1;33m\u001b[0m\u001b[0m\n\u001b[0;32m    701\u001b[0m         \u001b[1;31m# validate the merge keys dtypes. We may need to coerce\u001b[0m\u001b[1;33m\u001b[0m\u001b[1;33m\u001b[0m\u001b[1;33m\u001b[0m\u001b[0m\n",
      "\u001b[1;32mc:\\Users\\Andrew\\Documents\\git_repos\\BinancePublicData\\venv\\lib\\site-packages\\pandas\\core\\reshape\\merge.py\u001b[0m in \u001b[0;36m_get_merge_keys\u001b[1;34m(self)\u001b[0m\n\u001b[0;32m   1094\u001b[0m                     \u001b[1;32mif\u001b[0m \u001b[1;32mnot\u001b[0m \u001b[0mis_rkey\u001b[0m\u001b[1;33m(\u001b[0m\u001b[0mrk\u001b[0m\u001b[1;33m)\u001b[0m\u001b[1;33m:\u001b[0m\u001b[1;33m\u001b[0m\u001b[1;33m\u001b[0m\u001b[0m\n\u001b[0;32m   1095\u001b[0m                         \u001b[1;32mif\u001b[0m \u001b[0mrk\u001b[0m \u001b[1;32mis\u001b[0m \u001b[1;32mnot\u001b[0m \u001b[1;32mNone\u001b[0m\u001b[1;33m:\u001b[0m\u001b[1;33m\u001b[0m\u001b[1;33m\u001b[0m\u001b[0m\n\u001b[1;32m-> 1096\u001b[1;33m                             \u001b[0mright_keys\u001b[0m\u001b[1;33m.\u001b[0m\u001b[0mappend\u001b[0m\u001b[1;33m(\u001b[0m\u001b[0mright\u001b[0m\u001b[1;33m.\u001b[0m\u001b[0m_get_label_or_level_values\u001b[0m\u001b[1;33m(\u001b[0m\u001b[0mrk\u001b[0m\u001b[1;33m)\u001b[0m\u001b[1;33m)\u001b[0m\u001b[1;33m\u001b[0m\u001b[1;33m\u001b[0m\u001b[0m\n\u001b[0m\u001b[0;32m   1097\u001b[0m                         \u001b[1;32melse\u001b[0m\u001b[1;33m:\u001b[0m\u001b[1;33m\u001b[0m\u001b[1;33m\u001b[0m\u001b[0m\n\u001b[0;32m   1098\u001b[0m                             \u001b[1;31m# work-around for merge_asof(right_index=True)\u001b[0m\u001b[1;33m\u001b[0m\u001b[1;33m\u001b[0m\u001b[1;33m\u001b[0m\u001b[0m\n",
      "\u001b[1;32mc:\\Users\\Andrew\\Documents\\git_repos\\BinancePublicData\\venv\\lib\\site-packages\\pandas\\core\\generic.py\u001b[0m in \u001b[0;36m_get_label_or_level_values\u001b[1;34m(self, key, axis)\u001b[0m\n\u001b[0;32m   1777\u001b[0m             \u001b[0mvalues\u001b[0m \u001b[1;33m=\u001b[0m \u001b[0mself\u001b[0m\u001b[1;33m.\u001b[0m\u001b[0maxes\u001b[0m\u001b[1;33m[\u001b[0m\u001b[0maxis\u001b[0m\u001b[1;33m]\u001b[0m\u001b[1;33m.\u001b[0m\u001b[0mget_level_values\u001b[0m\u001b[1;33m(\u001b[0m\u001b[0mkey\u001b[0m\u001b[1;33m)\u001b[0m\u001b[1;33m.\u001b[0m\u001b[0m_values\u001b[0m\u001b[1;33m\u001b[0m\u001b[1;33m\u001b[0m\u001b[0m\n\u001b[0;32m   1778\u001b[0m         \u001b[1;32melse\u001b[0m\u001b[1;33m:\u001b[0m\u001b[1;33m\u001b[0m\u001b[1;33m\u001b[0m\u001b[0m\n\u001b[1;32m-> 1779\u001b[1;33m             \u001b[1;32mraise\u001b[0m \u001b[0mKeyError\u001b[0m\u001b[1;33m(\u001b[0m\u001b[0mkey\u001b[0m\u001b[1;33m)\u001b[0m\u001b[1;33m\u001b[0m\u001b[1;33m\u001b[0m\u001b[0m\n\u001b[0m\u001b[0;32m   1780\u001b[0m \u001b[1;33m\u001b[0m\u001b[0m\n\u001b[0;32m   1781\u001b[0m         \u001b[1;31m# Check for duplicates\u001b[0m\u001b[1;33m\u001b[0m\u001b[1;33m\u001b[0m\u001b[1;33m\u001b[0m\u001b[0m\n",
      "\u001b[1;31mKeyError\u001b[0m: 'Datetime'"
     ]
    }
   ],
   "source": [
    "#Earliest is 30 days before current day\n",
    "starting_date = \"2022-04-16\"\n",
    "delt = timedelta(days=1)\n",
    "current_date = pd.Timestamp(starting_date)\n",
    "for i in range(17):\n",
    "    cur_date_str = str(current_date).split()[0]\n",
    "    if current_date.weekday() >= 5:\n",
    "        #Ignore Saturday and Sunday if QQQ is included\n",
    "        print(f\"Ignoring {cur_date_str}\")\n",
    "        current_date += delt\n",
    "        continue\n",
    "    history[cur_date_str] = backtest_one_day(cur_date_str)\n",
    "    print(\"Done with\",cur_date_str)\n",
    "    current_date += delt\n",
    "list(history.keys())\n"
   ]
  },
  {
   "cell_type": "code",
   "execution_count": 148,
   "metadata": {},
   "outputs": [],
   "source": [
    "def get_most_profitable_tickers(n, symbs, pnls):\n",
    "    inds = np.argsort(-np.array(pnls))\n",
    "    best = []\n",
    "    for i in range(n):\n",
    "        ind = inds[i]\n",
    "        print(f\"{symbs[ind]} | {pnls[ind]:.2f}\")\n",
    "        best.append(symbs[ind])\n",
    "    return best\n",
    "\n",
    "def get_least_profitable_tickers(n, symbs, pnls):\n",
    "    inds = np.argsort(np.array(pnls))\n",
    "    best = []\n",
    "    for i in range(n):\n",
    "        ind = inds[i]\n",
    "        print(f\"{symbs[ind]} | {pnls[ind]:.2f}\")\n",
    "        best.append(symbs[ind])\n",
    "    return best"
   ]
  },
  {
   "cell_type": "markdown",
   "metadata": {},
   "source": [
    "## Results\n",
    "\n",
    "Overall, the trades were mostly positive, winning 52% of the trades made from our aforementioned strategy. Our strategy outperformed BTC heavily during the past 30 days, returning +66% (assuming each trade used 100% of account) while BTC returned -16%. \n",
    "\n",
    "Profit factor was 1.1 which is good considering the state of the market overall and that our strategy only went long. We considered a number of indicators that could work and that led to a working strategy. There are additional optimizations we can do, like online updates to cross correlation as data is coming in. Then, we still would want to try out additional hyperparameter tuning and try to limit losses by placing limits on the slope loss for indicators that we consider to be valid.\n",
    "\n",
    "Moreover, given the downtrend in the current market, it would be better if our strategy could play both long and short. This would just mean adding an additional entry parameter which the inverse of the long entry. Looking at the results by day, we can see a clear positive correlation between BTC's % change that day and our strategy's profitability. Thus, we hypothesize that adding a short entry signal would eliminate this long bias and make our strategy much more profitable in the current market environment. \n",
    "\n",
    "Adding on to this, again looking at the results by day, we can see that there are clearly days when the strategy works well (winrate >60%, avg win >> avg loss on those days) and when the strategy performs poorly (40% or less winrate, avg loss >> avg win). In the future, it would be good to add some way to filter the signals so that trades that are less likely to be profitable can be ignored. \n",
    "\n",
    "However, when looking at trades by token, we can see that QQQ-crypto pairings did not generate any edge. The best performing pairings were BTC-alt or alt-alt.\n",
    "\n",
    "\n",
    "## Conclusion\n",
    "\n",
    "The results of this study were promising. We were able to generate a profit trading only long during a period of time when the markets were extremely bearish. Thus we can reasonably conclude that there does seem to be a significant edge in cross correlation trading. Our pilot study however was very brief and only scratched the surface. There is a lot more research that can and should be done on this topic, including examining different stocks and pairings, adding more and tuning existing hyperparameters, adding more features and indicators that could have predictive power to act as signals or filters to trigger/ignore trades, and more. \n",
    "\n"
   ]
  },
  {
   "cell_type": "code",
   "execution_count": 178,
   "metadata": {},
   "outputs": [
    {
     "name": "stdout",
     "output_type": "stream",
     "text": [
      "All Trades (past 30 days) | Total P/L % :: 66.01%\n",
      "Winrate 52.43% | 3878 Trades, 1847 Winners, 1676 Losers, 355 Breakeven\n",
      "All Trades | Avg Trade 0.02% | SD 0.49%\n",
      "Winners | Avg Trade 0.34% | SD 0.38%\n",
      "Losers | Avg Trade -0.33% | SD 0.39%\n",
      "Profit Factor: 1.1190124798731227 | Gross Profit: 620.64% | Gross Loss: -554.63%\n",
      "----------\n",
      "----------\n"
     ]
    }
   ],
   "source": [
    "first_index = list(history.keys())[0]\n",
    "all_pairings = history[first_index][0]\n",
    "all_trades = []\n",
    "all_pnls = np.zeros(len(history[first_index][1]))\n",
    "for _, pnls, pnl_dict, trades, trades_dict in history.values():\n",
    "    for pair in trades_dict.keys():\n",
    "        if \"XRP-USD\" in pair or \"ADA-USD\" in pair:\n",
    "            continue\n",
    "        all_trades += trades_dict[pair]\n",
    "        all_pnls += np.array(pnl_dict[pair])\n",
    "\n",
    "all_trades = np.array(all_trades)\n",
    "stats(all_trades, \"All Trades (past 30 days)\")\n",
    "print(\"----------\")\n",
    "print(\"----------\")"
   ]
  },
  {
   "cell_type": "code",
   "execution_count": 180,
   "metadata": {},
   "outputs": [
    {
     "name": "stdout",
     "output_type": "stream",
     "text": [
      "2022-04-01 | Total P/L % :: 36.58%\n",
      "Winrate 70.06% | 177 Trades, 117 Winners, 50 Losers, 10 Breakeven\n",
      "All Trades | Avg Trade 0.21% | SD 0.46%\n",
      "Winners | Avg Trade 0.42% | SD 0.39%\n",
      "Losers | Avg Trade -0.25% | SD 0.24%\n",
      "Profit Factor: 3.9319857573115047 | Gross Profit: 49.05% | Gross Loss: -12.47%\n",
      "-------------------------\n",
      "2022-04-04 | Total P/L % :: 2.21%\n",
      "Winrate 46.84% | 214 Trades, 89 Winners, 101 Losers, 24 Breakeven\n",
      "All Trades | Avg Trade 0.01% | SD 0.31%\n",
      "Winners | Avg Trade 0.26% | SD 0.31%\n",
      "Losers | Avg Trade -0.20% | SD 0.14%\n",
      "Profit Factor: 1.107483179300907 | Gross Profit: 22.72% | Gross Loss: -20.52%\n",
      "-------------------------\n",
      "2022-04-05 | Total P/L % :: -12.40%\n",
      "Winrate 40.27% | 242 Trades, 91 Winners, 135 Losers, 16 Breakeven\n",
      "All Trades | Avg Trade -0.05% | SD 0.31%\n",
      "Winners | Avg Trade 0.19% | SD 0.17%\n",
      "Losers | Avg Trade -0.22% | SD 0.30%\n",
      "Profit Factor: 0.5766356079808392 | Gross Profit: 16.88% | Gross Loss: -29.28%\n",
      "-------------------------\n",
      "2022-04-06 | Total P/L % :: -12.78%\n",
      "Winrate 46.46% | 230 Trades, 92 Winners, 106 Losers, 32 Breakeven\n",
      "All Trades | Avg Trade -0.06% | SD 0.51%\n",
      "Winners | Avg Trade 0.38% | SD 0.37%\n",
      "Losers | Avg Trade -0.45% | SD 0.37%\n",
      "Profit Factor: 0.7301444979133608 | Gross Profit: 34.58% | Gross Loss: -47.36%\n",
      "-------------------------\n",
      "2022-04-07 | Total P/L % :: 21.72%\n",
      "Winrate 57.43% | 216 Trades, 116 Winners, 86 Losers, 14 Breakeven\n",
      "All Trades | Avg Trade 0.10% | SD 0.42%\n",
      "Winners | Avg Trade 0.39% | SD 0.32%\n",
      "Losers | Avg Trade -0.27% | SD 0.24%\n",
      "Profit Factor: 1.9458476419543542 | Gross Profit: 44.68% | Gross Loss: -22.96%\n",
      "-------------------------\n",
      "2022-04-08 | Total P/L % :: -6.75%\n",
      "Winrate 44.00% | 222 Trades, 88 Winners, 112 Losers, 22 Breakeven\n",
      "All Trades | Avg Trade -0.03% | SD 0.47%\n",
      "Winners | Avg Trade 0.38% | SD 0.31%\n",
      "Losers | Avg Trade -0.36% | SD 0.34%\n",
      "Profit Factor: 0.8329436632764522 | Gross Profit: 33.64% | Gross Loss: -40.39%\n",
      "-------------------------\n",
      "2022-04-11 | Total P/L % :: -17.54%\n",
      "Winrate 39.47% | 202 Trades, 75 Winners, 115 Losers, 12 Breakeven\n",
      "All Trades | Avg Trade -0.09% | SD 0.33%\n",
      "Winners | Avg Trade 0.21% | SD 0.16%\n",
      "Losers | Avg Trade -0.29% | SD 0.27%\n",
      "Profit Factor: 0.4786453794275542 | Gross Profit: 16.10% | Gross Loss: -33.64%\n",
      "-------------------------\n",
      "2022-04-12 | Total P/L % :: 47.18%\n",
      "Winrate 70.83% | 128 Trades, 85 Winners, 35 Losers, 8 Breakeven\n",
      "All Trades | Avg Trade 0.37% | SD 0.72%\n",
      "Winners | Avg Trade 0.69% | SD 0.65%\n",
      "Losers | Avg Trade -0.33% | SD 0.27%\n",
      "Profit Factor: 5.027999871126033 | Gross Profit: 58.89% | Gross Loss: -11.71%\n",
      "-------------------------\n",
      "2022-04-13 | Total P/L % :: 19.47%\n",
      "Winrate 59.55% | 236 Trades, 131 Winners, 89 Losers, 16 Breakeven\n",
      "All Trades | Avg Trade 0.08% | SD 0.30%\n",
      "Winners | Avg Trade 0.29% | SD 0.21%\n",
      "Losers | Avg Trade -0.20% | SD 0.19%\n",
      "Profit Factor: 2.074185345093431 | Gross Profit: 37.60% | Gross Loss: -18.13%\n",
      "-------------------------\n",
      "2022-04-14 | Total P/L % :: -12.96%\n",
      "Winrate 43.40% | 232 Trades, 92 Winners, 120 Losers, 20 Breakeven\n",
      "All Trades | Avg Trade -0.06% | SD 0.35%\n",
      "Winners | Avg Trade 0.24% | SD 0.23%\n",
      "Losers | Avg Trade -0.29% | SD 0.26%\n",
      "Profit Factor: 0.6257156718884684 | Gross Profit: 21.67% | Gross Loss: -34.63%\n",
      "-------------------------\n",
      "2022-04-18 | Total P/L % :: -13.45%\n",
      "Winrate 48.44% | 141 Trades, 62 Winners, 66 Losers, 13 Breakeven\n",
      "All Trades | Avg Trade -0.10% | SD 0.48%\n",
      "Winners | Avg Trade 0.24% | SD 0.20%\n",
      "Losers | Avg Trade -0.43% | SD 0.48%\n",
      "Profit Factor: 0.5294304496825812 | Gross Profit: 15.13% | Gross Loss: -28.58%\n",
      "-------------------------\n",
      "2022-04-19 | Total P/L % :: 6.03%\n",
      "Winrate 51.83% | 240 Trades, 113 Winners, 105 Losers, 22 Breakeven\n",
      "All Trades | Avg Trade 0.03% | SD 0.30%\n",
      "Winners | Avg Trade 0.24% | SD 0.26%\n",
      "Losers | Avg Trade -0.20% | SD 0.19%\n",
      "Profit Factor: 1.291437473578219 | Gross Profit: 26.71% | Gross Loss: -20.68%\n",
      "-------------------------\n",
      "2022-04-20 | Total P/L % :: 3.90%\n",
      "Winrate 60.44% | 202 Trades, 110 Winners, 72 Losers, 20 Breakeven\n",
      "All Trades | Avg Trade 0.02% | SD 0.26%\n",
      "Winners | Avg Trade 0.18% | SD 0.21%\n",
      "Losers | Avg Trade -0.22% | SD 0.18%\n",
      "Profit Factor: 1.2475190836606 | Gross Profit: 19.67% | Gross Loss: -15.77%\n",
      "-------------------------\n",
      "2022-04-21 | Total P/L % :: -3.19%\n",
      "Winrate 47.45% | 214 Trades, 93 Winners, 103 Losers, 18 Breakeven\n",
      "All Trades | Avg Trade -0.01% | SD 0.39%\n",
      "Winners | Avg Trade 0.30% | SD 0.26%\n",
      "Losers | Avg Trade -0.30% | SD 0.28%\n",
      "Profit Factor: 0.8972416351266185 | Gross Profit: 27.83% | Gross Loss: -31.02%\n",
      "-------------------------\n",
      "2022-04-22 | Total P/L % :: -19.15%\n",
      "Winrate 60.71% | 78 Trades, 34 Winners, 22 Losers, 22 Breakeven\n",
      "All Trades | Avg Trade -0.25% | SD 0.87%\n",
      "Winners | Avg Trade 0.26% | SD 0.18%\n",
      "Losers | Avg Trade -1.27% | SD 1.06%\n",
      "Profit Factor: 0.31487688849832135 | Gross Profit: 8.80% | Gross Loss: -27.95%\n",
      "-------------------------\n",
      "2022-04-25 | Total P/L % :: -57.14%\n",
      "Winrate 25.42% | 138 Trades, 30 Winners, 88 Losers, 20 Breakeven\n",
      "All Trades | Avg Trade -0.41% | SD 0.70%\n",
      "Winners | Avg Trade 0.18% | SD 0.24%\n",
      "Losers | Avg Trade -0.71% | SD 0.71%\n",
      "Profit Factor: 0.08545258759985362 | Gross Profit: 5.34% | Gross Loss: -62.48%\n",
      "-------------------------\n",
      "2022-04-26 | Total P/L % :: 29.09%\n",
      "Winrate 60.42% | 208 Trades, 116 Winners, 76 Losers, 16 Breakeven\n",
      "All Trades | Avg Trade 0.14% | SD 0.62%\n",
      "Winners | Avg Trade 0.40% | SD 0.70%\n",
      "Losers | Avg Trade -0.23% | SD 0.24%\n",
      "Profit Factor: 2.6674711504111763 | Gross Profit: 46.54% | Gross Loss: -17.45%\n",
      "-------------------------\n",
      "2022-04-27 | Total P/L % :: 36.95%\n",
      "Winrate 70.39% | 170 Trades, 107 Winners, 45 Losers, 18 Breakeven\n",
      "All Trades | Avg Trade 0.22% | SD 0.50%\n",
      "Winners | Avg Trade 0.47% | SD 0.41%\n",
      "Losers | Avg Trade -0.31% | SD 0.30%\n",
      "Profit Factor: 3.6698424122341247 | Gross Profit: 50.79% | Gross Loss: -13.84%\n",
      "-------------------------\n",
      "2022-04-28 | Total P/L % :: 32.76%\n",
      "Winrate 66.89% | 166 Trades, 99 Winners, 49 Losers, 18 Breakeven\n",
      "All Trades | Avg Trade 0.20% | SD 0.57%\n",
      "Winners | Avg Trade 0.49% | SD 0.54%\n",
      "Losers | Avg Trade -0.32% | SD 0.26%\n",
      "Profit Factor: 3.1162130004983775 | Gross Profit: 48.23% | Gross Loss: -15.48%\n",
      "-------------------------\n",
      "2022-04-29 | Total P/L % :: -14.52%\n",
      "Winrate 51.44% | 222 Trades, 107 Winners, 101 Losers, 14 Breakeven\n",
      "All Trades | Avg Trade -0.07% | SD 0.55%\n",
      "Winners | Avg Trade 0.33% | SD 0.24%\n",
      "Losers | Avg Trade -0.50% | SD 0.51%\n",
      "Profit Factor: 0.7112476507399474 | Gross Profit: 35.77% | Gross Loss: -50.29%\n",
      "-------------------------\n"
     ]
    }
   ],
   "source": [
    "for day in history.keys():\n",
    "    _, pnls, pnls_dict, trades, trades_dict = history[day]\n",
    "    trades_that_day = []\n",
    "    for pair in trades_dict.keys():\n",
    "        if \"XRP-USD\" in pair or \"ADA-USD\" in pair:\n",
    "            continue\n",
    "        trades_that_day += trades_dict[pair]\n",
    "    stats(np.array(trades_that_day), day)\n",
    "    print(\"-------------------------\")"
   ]
  },
  {
   "cell_type": "code",
   "execution_count": 181,
   "metadata": {},
   "outputs": [
    {
     "data": {
      "text/plain": [
       "'\\n2022-04-01 | Total P/L % :: 36.58%\\nWinrate 70.06% | 177 Trades, 117 Winners, 50 Losers, 10 Breakeven\\nAll Trades | Avg Trade 0.21% | SD 0.46%\\nWinners | Avg Trade 0.42% | SD 0.39%\\nLosers | Avg Trade -0.25% | SD 0.24%\\nProfit Factor: 3.9319857573115047 | Gross Profit: 49.05% | Gross Loss: -12.47%\\n-------------------------\\n2022-04-04 | Total P/L % :: 2.21%\\nWinrate 46.84% | 214 Trades, 89 Winners, 101 Losers, 24 Breakeven\\nAll Trades | Avg Trade 0.01% | SD 0.31%\\nWinners | Avg Trade 0.26% | SD 0.31%\\nLosers | Avg Trade -0.20% | SD 0.14%\\nProfit Factor: 1.107483179300907 | Gross Profit: 22.72% | Gross Loss: -20.52%\\n-------------------------\\n2022-04-05 | Total P/L % :: -12.40%\\nWinrate 40.27% | 242 Trades, 91 Winners, 135 Losers, 16 Breakeven\\nAll Trades | Avg Trade -0.05% | SD 0.31%\\nWinners | Avg Trade 0.19% | SD 0.17%\\nLosers | Avg Trade -0.22% | SD 0.30%\\nProfit Factor: 0.5766356079808392 | Gross Profit: 16.88% | Gross Loss: -29.28%\\n-------------------------\\n2022-04-06 | Total P/L % :: -12.78%\\nWinrate 46.46% | 230 Trades, 92 Winners, 106 Losers, 32 Breakeven\\nAll Trades | Avg Trade -0.06% | SD 0.51%\\nWinners | Avg Trade 0.38% | SD 0.37%\\nLosers | Avg Trade -0.45% | SD 0.37%\\nProfit Factor: 0.7301444979133608 | Gross Profit: 34.58% | Gross Loss: -47.36%\\n-------------------------\\n2022-04-07 | Total P/L % :: 21.72%\\nWinrate 57.43% | 216 Trades, 116 Winners, 86 Losers, 14 Breakeven\\nAll Trades | Avg Trade 0.10% | SD 0.42%\\nWinners | Avg Trade 0.39% | SD 0.32%\\nLosers | Avg Trade -0.27% | SD 0.24%\\nProfit Factor: 1.9458476419543542 | Gross Profit: 44.68% | Gross Loss: -22.96%\\n-------------------------\\n2022-04-08 | Total P/L % :: -6.75%\\nWinrate 44.00% | 222 Trades, 88 Winners, 112 Losers, 22 Breakeven\\nAll Trades | Avg Trade -0.03% | SD 0.47%\\nWinners | Avg Trade 0.38% | SD 0.31%\\nLosers | Avg Trade -0.36% | SD 0.34%\\nProfit Factor: 0.8329436632764522 | Gross Profit: 33.64% | Gross Loss: -40.39%\\n-------------------------\\n2022-04-11 | Total P/L % :: -17.54%\\nWinrate 39.47% | 202 Trades, 75 Winners, 115 Losers, 12 Breakeven\\nAll Trades | Avg Trade -0.09% | SD 0.33%\\nWinners | Avg Trade 0.21% | SD 0.16%\\nLosers | Avg Trade -0.29% | SD 0.27%\\nProfit Factor: 0.4786453794275542 | Gross Profit: 16.10% | Gross Loss: -33.64%\\n-------------------------\\n2022-04-12 | Total P/L % :: 47.18%\\nWinrate 70.83% | 128 Trades, 85 Winners, 35 Losers, 8 Breakeven\\nAll Trades | Avg Trade 0.37% | SD 0.72%\\nWinners | Avg Trade 0.69% | SD 0.65%\\nLosers | Avg Trade -0.33% | SD 0.27%\\nProfit Factor: 5.027999871126033 | Gross Profit: 58.89% | Gross Loss: -11.71%\\n-------------------------\\n2022-04-13 | Total P/L % :: 19.47%\\nWinrate 59.55% | 236 Trades, 131 Winners, 89 Losers, 16 Breakeven\\nAll Trades | Avg Trade 0.08% | SD 0.30%\\nWinners | Avg Trade 0.29% | SD 0.21%\\nLosers | Avg Trade -0.20% | SD 0.19%\\nProfit Factor: 2.074185345093431 | Gross Profit: 37.60% | Gross Loss: -18.13%\\n-------------------------\\n2022-04-14 | Total P/L % :: -12.96%\\nWinrate 43.40% | 232 Trades, 92 Winners, 120 Losers, 20 Breakeven\\nAll Trades | Avg Trade -0.06% | SD 0.35%\\nWinners | Avg Trade 0.24% | SD 0.23%\\nLosers | Avg Trade -0.29% | SD 0.26%\\nProfit Factor: 0.6257156718884684 | Gross Profit: 21.67% | Gross Loss: -34.63%\\n-------------------------\\n2022-04-18 | Total P/L % :: -13.45%\\nWinrate 48.44% | 141 Trades, 62 Winners, 66 Losers, 13 Breakeven\\nAll Trades | Avg Trade -0.10% | SD 0.48%\\nWinners | Avg Trade 0.24% | SD 0.20%\\nLosers | Avg Trade -0.43% | SD 0.48%\\nProfit Factor: 0.5294304496825812 | Gross Profit: 15.13% | Gross Loss: -28.58%\\n-------------------------\\n2022-04-19 | Total P/L % :: 6.03%\\nWinrate 51.83% | 240 Trades, 113 Winners, 105 Losers, 22 Breakeven\\nAll Trades | Avg Trade 0.03% | SD 0.30%\\nWinners | Avg Trade 0.24% | SD 0.26%\\nLosers | Avg Trade -0.20% | SD 0.19%\\nProfit Factor: 1.291437473578219 | Gross Profit: 26.71% | Gross Loss: -20.68%\\n-------------------------\\n2022-04-20 | Total P/L % :: 3.90%\\nWinrate 60.44% | 202 Trades, 110 Winners, 72 Losers, 20 Breakeven\\nAll Trades | Avg Trade 0.02% | SD 0.26%\\nWinners | Avg Trade 0.18% | SD 0.21%\\nLosers | Avg Trade -0.22% | SD 0.18%\\nProfit Factor: 1.2475190836606 | Gross Profit: 19.67% | Gross Loss: -15.77%\\n-------------------------\\n2022-04-21 | Total P/L % :: -3.19%\\nWinrate 47.45% | 214 Trades, 93 Winners, 103 Losers, 18 Breakeven\\nAll Trades | Avg Trade -0.01% | SD 0.39%\\nWinners | Avg Trade 0.30% | SD 0.26%\\nLosers | Avg Trade -0.30% | SD 0.28%\\nProfit Factor: 0.8972416351266185 | Gross Profit: 27.83% | Gross Loss: -31.02%\\n-------------------------\\n2022-04-22 | Total P/L % :: -19.15%\\nWinrate 60.71% | 78 Trades, 34 Winners, 22 Losers, 22 Breakeven\\nAll Trades | Avg Trade -0.25% | SD 0.87%\\nWinners | Avg Trade 0.26% | SD 0.18%\\nLosers | Avg Trade -1.27% | SD 1.06%\\nProfit Factor: 0.31487688849832135 | Gross Profit: 8.80% | Gross Loss: -27.95%\\n-------------------------\\n2022-04-25 | Total P/L % :: -57.14%\\nWinrate 25.42% | 138 Trades, 30 Winners, 88 Losers, 20 Breakeven\\nAll Trades | Avg Trade -0.41% | SD 0.70%\\nWinners | Avg Trade 0.18% | SD 0.24%\\nLosers | Avg Trade -0.71% | SD 0.71%\\nProfit Factor: 0.08545258759985362 | Gross Profit: 5.34% | Gross Loss: -62.48%\\n-------------------------\\n2022-04-26 | Total P/L % :: 29.09%\\nWinrate 60.42% | 208 Trades, 116 Winners, 76 Losers, 16 Breakeven\\nAll Trades | Avg Trade 0.14% | SD 0.62%\\nWinners | Avg Trade 0.40% | SD 0.70%\\nLosers | Avg Trade -0.23% | SD 0.24%\\nProfit Factor: 2.6674711504111763 | Gross Profit: 46.54% | Gross Loss: -17.45%\\n-------------------------\\n2022-04-27 | Total P/L % :: 36.95%\\nWinrate 70.39% | 170 Trades, 107 Winners, 45 Losers, 18 Breakeven\\nAll Trades | Avg Trade 0.22% | SD 0.50%\\nWinners | Avg Trade 0.47% | SD 0.41%\\nLosers | Avg Trade -0.31% | SD 0.30%\\nProfit Factor: 3.6698424122341247 | Gross Profit: 50.79% | Gross Loss: -13.84%\\n-------------------------\\n2022-04-28 | Total P/L % :: 32.76%\\nWinrate 66.89% | 166 Trades, 99 Winners, 49 Losers, 18 Breakeven\\nAll Trades | Avg Trade 0.20% | SD 0.57%\\nWinners | Avg Trade 0.49% | SD 0.54%\\nLosers | Avg Trade -0.32% | SD 0.26%\\nProfit Factor: 3.1162130004983775 | Gross Profit: 48.23% | Gross Loss: -15.48%\\n-------------------------\\n2022-04-29 | Total P/L % :: -14.52%\\nWinrate 51.44% | 222 Trades, 107 Winners, 101 Losers, 14 Breakeven\\nAll Trades | Avg Trade -0.07% | SD 0.55%\\nWinners | Avg Trade 0.33% | SD 0.24%\\nLosers | Avg Trade -0.50% | SD 0.51%\\nProfit Factor: 0.7112476507399474 | Gross Profit: 35.77% | Gross Loss: -50.29%\\n-------------------------\\n\\n'"
      ]
     },
     "execution_count": 181,
     "metadata": {},
     "output_type": "execute_result"
    }
   ],
   "source": [
    "\"\"\"\n",
    "2022-04-01 | Total P/L % :: 36.58%\n",
    "Winrate 70.06% | 177 Trades, 117 Winners, 50 Losers, 10 Breakeven\n",
    "All Trades | Avg Trade 0.21% | SD 0.46%\n",
    "Winners | Avg Trade 0.42% | SD 0.39%\n",
    "Losers | Avg Trade -0.25% | SD 0.24%\n",
    "Profit Factor: 3.9319857573115047 | Gross Profit: 49.05% | Gross Loss: -12.47%\n",
    "-------------------------\n",
    "2022-04-04 | Total P/L % :: 2.21%\n",
    "Winrate 46.84% | 214 Trades, 89 Winners, 101 Losers, 24 Breakeven\n",
    "All Trades | Avg Trade 0.01% | SD 0.31%\n",
    "Winners | Avg Trade 0.26% | SD 0.31%\n",
    "Losers | Avg Trade -0.20% | SD 0.14%\n",
    "Profit Factor: 1.107483179300907 | Gross Profit: 22.72% | Gross Loss: -20.52%\n",
    "-------------------------\n",
    "2022-04-05 | Total P/L % :: -12.40%\n",
    "Winrate 40.27% | 242 Trades, 91 Winners, 135 Losers, 16 Breakeven\n",
    "All Trades | Avg Trade -0.05% | SD 0.31%\n",
    "Winners | Avg Trade 0.19% | SD 0.17%\n",
    "Losers | Avg Trade -0.22% | SD 0.30%\n",
    "Profit Factor: 0.5766356079808392 | Gross Profit: 16.88% | Gross Loss: -29.28%\n",
    "-------------------------\n",
    "2022-04-06 | Total P/L % :: -12.78%\n",
    "Winrate 46.46% | 230 Trades, 92 Winners, 106 Losers, 32 Breakeven\n",
    "All Trades | Avg Trade -0.06% | SD 0.51%\n",
    "Winners | Avg Trade 0.38% | SD 0.37%\n",
    "Losers | Avg Trade -0.45% | SD 0.37%\n",
    "Profit Factor: 0.7301444979133608 | Gross Profit: 34.58% | Gross Loss: -47.36%\n",
    "-------------------------\n",
    "2022-04-07 | Total P/L % :: 21.72%\n",
    "Winrate 57.43% | 216 Trades, 116 Winners, 86 Losers, 14 Breakeven\n",
    "All Trades | Avg Trade 0.10% | SD 0.42%\n",
    "Winners | Avg Trade 0.39% | SD 0.32%\n",
    "Losers | Avg Trade -0.27% | SD 0.24%\n",
    "Profit Factor: 1.9458476419543542 | Gross Profit: 44.68% | Gross Loss: -22.96%\n",
    "-------------------------\n",
    "2022-04-08 | Total P/L % :: -6.75%\n",
    "Winrate 44.00% | 222 Trades, 88 Winners, 112 Losers, 22 Breakeven\n",
    "All Trades | Avg Trade -0.03% | SD 0.47%\n",
    "Winners | Avg Trade 0.38% | SD 0.31%\n",
    "Losers | Avg Trade -0.36% | SD 0.34%\n",
    "Profit Factor: 0.8329436632764522 | Gross Profit: 33.64% | Gross Loss: -40.39%\n",
    "-------------------------\n",
    "2022-04-11 | Total P/L % :: -17.54%\n",
    "Winrate 39.47% | 202 Trades, 75 Winners, 115 Losers, 12 Breakeven\n",
    "All Trades | Avg Trade -0.09% | SD 0.33%\n",
    "Winners | Avg Trade 0.21% | SD 0.16%\n",
    "Losers | Avg Trade -0.29% | SD 0.27%\n",
    "Profit Factor: 0.4786453794275542 | Gross Profit: 16.10% | Gross Loss: -33.64%\n",
    "-------------------------\n",
    "2022-04-12 | Total P/L % :: 47.18%\n",
    "Winrate 70.83% | 128 Trades, 85 Winners, 35 Losers, 8 Breakeven\n",
    "All Trades | Avg Trade 0.37% | SD 0.72%\n",
    "Winners | Avg Trade 0.69% | SD 0.65%\n",
    "Losers | Avg Trade -0.33% | SD 0.27%\n",
    "Profit Factor: 5.027999871126033 | Gross Profit: 58.89% | Gross Loss: -11.71%\n",
    "-------------------------\n",
    "2022-04-13 | Total P/L % :: 19.47%\n",
    "Winrate 59.55% | 236 Trades, 131 Winners, 89 Losers, 16 Breakeven\n",
    "All Trades | Avg Trade 0.08% | SD 0.30%\n",
    "Winners | Avg Trade 0.29% | SD 0.21%\n",
    "Losers | Avg Trade -0.20% | SD 0.19%\n",
    "Profit Factor: 2.074185345093431 | Gross Profit: 37.60% | Gross Loss: -18.13%\n",
    "-------------------------\n",
    "2022-04-14 | Total P/L % :: -12.96%\n",
    "Winrate 43.40% | 232 Trades, 92 Winners, 120 Losers, 20 Breakeven\n",
    "All Trades | Avg Trade -0.06% | SD 0.35%\n",
    "Winners | Avg Trade 0.24% | SD 0.23%\n",
    "Losers | Avg Trade -0.29% | SD 0.26%\n",
    "Profit Factor: 0.6257156718884684 | Gross Profit: 21.67% | Gross Loss: -34.63%\n",
    "-------------------------\n",
    "2022-04-18 | Total P/L % :: -13.45%\n",
    "Winrate 48.44% | 141 Trades, 62 Winners, 66 Losers, 13 Breakeven\n",
    "All Trades | Avg Trade -0.10% | SD 0.48%\n",
    "Winners | Avg Trade 0.24% | SD 0.20%\n",
    "Losers | Avg Trade -0.43% | SD 0.48%\n",
    "Profit Factor: 0.5294304496825812 | Gross Profit: 15.13% | Gross Loss: -28.58%\n",
    "-------------------------\n",
    "2022-04-19 | Total P/L % :: 6.03%\n",
    "Winrate 51.83% | 240 Trades, 113 Winners, 105 Losers, 22 Breakeven\n",
    "All Trades | Avg Trade 0.03% | SD 0.30%\n",
    "Winners | Avg Trade 0.24% | SD 0.26%\n",
    "Losers | Avg Trade -0.20% | SD 0.19%\n",
    "Profit Factor: 1.291437473578219 | Gross Profit: 26.71% | Gross Loss: -20.68%\n",
    "-------------------------\n",
    "2022-04-20 | Total P/L % :: 3.90%\n",
    "Winrate 60.44% | 202 Trades, 110 Winners, 72 Losers, 20 Breakeven\n",
    "All Trades | Avg Trade 0.02% | SD 0.26%\n",
    "Winners | Avg Trade 0.18% | SD 0.21%\n",
    "Losers | Avg Trade -0.22% | SD 0.18%\n",
    "Profit Factor: 1.2475190836606 | Gross Profit: 19.67% | Gross Loss: -15.77%\n",
    "-------------------------\n",
    "2022-04-21 | Total P/L % :: -3.19%\n",
    "Winrate 47.45% | 214 Trades, 93 Winners, 103 Losers, 18 Breakeven\n",
    "All Trades | Avg Trade -0.01% | SD 0.39%\n",
    "Winners | Avg Trade 0.30% | SD 0.26%\n",
    "Losers | Avg Trade -0.30% | SD 0.28%\n",
    "Profit Factor: 0.8972416351266185 | Gross Profit: 27.83% | Gross Loss: -31.02%\n",
    "-------------------------\n",
    "2022-04-22 | Total P/L % :: -19.15%\n",
    "Winrate 60.71% | 78 Trades, 34 Winners, 22 Losers, 22 Breakeven\n",
    "All Trades | Avg Trade -0.25% | SD 0.87%\n",
    "Winners | Avg Trade 0.26% | SD 0.18%\n",
    "Losers | Avg Trade -1.27% | SD 1.06%\n",
    "Profit Factor: 0.31487688849832135 | Gross Profit: 8.80% | Gross Loss: -27.95%\n",
    "-------------------------\n",
    "2022-04-25 | Total P/L % :: -57.14%\n",
    "Winrate 25.42% | 138 Trades, 30 Winners, 88 Losers, 20 Breakeven\n",
    "All Trades | Avg Trade -0.41% | SD 0.70%\n",
    "Winners | Avg Trade 0.18% | SD 0.24%\n",
    "Losers | Avg Trade -0.71% | SD 0.71%\n",
    "Profit Factor: 0.08545258759985362 | Gross Profit: 5.34% | Gross Loss: -62.48%\n",
    "-------------------------\n",
    "2022-04-26 | Total P/L % :: 29.09%\n",
    "Winrate 60.42% | 208 Trades, 116 Winners, 76 Losers, 16 Breakeven\n",
    "All Trades | Avg Trade 0.14% | SD 0.62%\n",
    "Winners | Avg Trade 0.40% | SD 0.70%\n",
    "Losers | Avg Trade -0.23% | SD 0.24%\n",
    "Profit Factor: 2.6674711504111763 | Gross Profit: 46.54% | Gross Loss: -17.45%\n",
    "-------------------------\n",
    "2022-04-27 | Total P/L % :: 36.95%\n",
    "Winrate 70.39% | 170 Trades, 107 Winners, 45 Losers, 18 Breakeven\n",
    "All Trades | Avg Trade 0.22% | SD 0.50%\n",
    "Winners | Avg Trade 0.47% | SD 0.41%\n",
    "Losers | Avg Trade -0.31% | SD 0.30%\n",
    "Profit Factor: 3.6698424122341247 | Gross Profit: 50.79% | Gross Loss: -13.84%\n",
    "-------------------------\n",
    "2022-04-28 | Total P/L % :: 32.76%\n",
    "Winrate 66.89% | 166 Trades, 99 Winners, 49 Losers, 18 Breakeven\n",
    "All Trades | Avg Trade 0.20% | SD 0.57%\n",
    "Winners | Avg Trade 0.49% | SD 0.54%\n",
    "Losers | Avg Trade -0.32% | SD 0.26%\n",
    "Profit Factor: 3.1162130004983775 | Gross Profit: 48.23% | Gross Loss: -15.48%\n",
    "-------------------------\n",
    "2022-04-29 | Total P/L % :: -14.52%\n",
    "Winrate 51.44% | 222 Trades, 107 Winners, 101 Losers, 14 Breakeven\n",
    "All Trades | Avg Trade -0.07% | SD 0.55%\n",
    "Winners | Avg Trade 0.33% | SD 0.24%\n",
    "Losers | Avg Trade -0.50% | SD 0.51%\n",
    "Profit Factor: 0.7112476507399474 | Gross Profit: 35.77% | Gross Loss: -50.29%\n",
    "-------------------------\n",
    "\n",
    "\"\"\""
   ]
  },
  {
   "cell_type": "markdown",
   "metadata": {},
   "source": []
  },
  {
   "cell_type": "code",
   "execution_count": 160,
   "metadata": {},
   "outputs": [
    {
     "name": "stdout",
     "output_type": "stream",
     "text": [
      "BTC-USDDOGE-USD | 7.37\n",
      "HEX-USDBNB-USD | 7.15\n",
      "DOGE-USDBNB-USD | 6.23\n",
      "LUNA1-USDHEX-USD | 6.04\n",
      "AVAX-USDADA-USD | 5.85\n",
      "HEX-USDLUNA1-USD | 5.62\n",
      "LUNA1-USDBNB-USD | 5.05\n",
      "ADA-USDAVAX-USD | 4.95\n",
      "BTC-USDBNB-USD | 4.89\n",
      "BTC-USDALGO-USD | 4.88\n",
      "XRP-USDDOGE-USD | 4.66\n",
      "ETH-USDBNB-USD | 4.43\n",
      "BNB-USDLUNA1-USD | 4.27\n",
      "LUNA1-USDAVAX-USD | 3.96\n",
      "AVAX-USDHEX-USD | 3.86\n"
     ]
    }
   ],
   "source": [
    "best_pairs = get_most_profitable_tickers(15, all_pairings, all_pnls)\n"
   ]
  },
  {
   "cell_type": "code",
   "execution_count": 161,
   "metadata": {},
   "outputs": [
    {
     "name": "stdout",
     "output_type": "stream",
     "text": [
      "ALGO-USDAVAX-USD | -8.45\n",
      "ADA-USDDOGE-USD | -7.23\n",
      "ALGO-USDXRP-USD | -7.17\n",
      "BTC-USDXRP-USD | -6.93\n",
      "DOGE-USDXRP-USD | -6.79\n",
      "ADA-USDXRP-USD | -6.67\n",
      "HEX-USDXRP-USD | -5.33\n",
      "ALGO-USDADA-USD | -5.20\n",
      "BNB-USDAVAX-USD | -5.08\n",
      "BNB-USDADA-USD | -5.04\n",
      "LUNA1-USDXRP-USD | -5.00\n",
      "DOGE-USDADA-USD | -4.88\n",
      "XRP-USDADA-USD | -4.65\n",
      "AVAX-USDALGO-USD | -4.49\n",
      "ETH-USDBTC-USD | -4.17\n"
     ]
    }
   ],
   "source": [
    "worst_pairs = get_least_profitable_tickers(15, all_pairings, all_pnls)"
   ]
  },
  {
   "cell_type": "markdown",
   "metadata": {},
   "source": [
    "### Our trading strategy is simply comparing ith and (i+1)th slope, if the upwards and downwards diff is greater than a certain threshold, then we buy/sell y2 at the (i+1 timestamp + offset). Given we have already shifted the timestamp and joined both crypto dataframes, I just use y2's y2_original[diffs[i+1][1]] for buy and sell. "
   ]
  },
  {
   "cell_type": "markdown",
   "metadata": {},
   "source": [
    "### We paid extra attention to data leackage, i.e. not using future knowledge to trade the current stock\n"
   ]
  },
  {
   "cell_type": "code",
   "execution_count": 162,
   "metadata": {},
   "outputs": [
    {
     "data": {
      "text/plain": [
       "['QQQ',\n",
       " 'BTC-USD',\n",
       " 'ETH-USD',\n",
       " 'BNB-USD',\n",
       " 'XRP-USD',\n",
       " 'LUNA1-USD',\n",
       " 'ADA-USD',\n",
       " 'ALGO-USD',\n",
       " 'HEX-USD',\n",
       " 'AVAX-USD',\n",
       " 'DOGE-USD']"
      ]
     },
     "execution_count": 162,
     "metadata": {},
     "output_type": "execute_result"
    }
   ],
   "source": [
    "tokens = [\"QQQ\", \"BTC-USD\", \"ETH-USD\", \"BNB-USD\", \"XRP-USD\", \"LUNA1-USD\", \"ADA-USD\", \"ALGO-USD\", \"HEX-USD\", \"AVAX-USD\", \"DOGE-USD\"] # \n",
    "trades_by_token = {}\n",
    "for token in tokens:\n",
    "    for day in history.keys():\n",
    "        _, pnls, pnls_dict, trades, trades_dict = history[day]\n",
    "        for key in trades_dict.keys():\n",
    "            if token in key:\n",
    "                trades_by_token[token] = trades_by_token.get(token, []) + trades_dict[key]\n",
    "list(trades_by_token.keys())\n",
    "\n",
    "    "
   ]
  },
  {
   "cell_type": "code",
   "execution_count": 183,
   "metadata": {},
   "outputs": [
    {
     "name": "stdout",
     "output_type": "stream",
     "text": [
      "QQQ | Total P/L % :: -4.67%\n",
      "Winrate 50.00% | 257 Trades, 71 Winners, 71 Losers, 115 Breakeven\n",
      "All Trades | Avg Trade -0.02% | SD 0.37%\n",
      "Winners | Avg Trade 0.36% | SD 0.24%\n",
      "Losers | Avg Trade -0.42% | SD 0.35%\n",
      "Profit Factor: 0.8439297984360714 | Gross Profit: 25.26% | Gross Loss: -29.93%\n",
      "----------------\n",
      "BTC-USD | Total P/L % :: 5.92%\n",
      "Winrate 52.60% | 1016 Trades, 485 Winners, 437 Losers, 94 Breakeven\n",
      "All Trades | Avg Trade 0.01% | SD 0.52%\n",
      "Winners | Avg Trade 0.30% | SD 0.40%\n",
      "Losers | Avg Trade -0.32% | SD 0.50%\n",
      "Profit Factor: 1.0425461208948326 | Gross Profit: 144.96% | Gross Loss: -139.04%\n",
      "----------------\n",
      "ETH-USD | Total P/L % :: 7.28%\n",
      "Winrate 49.40% | 1166 Trades, 536 Winners, 549 Losers, 81 Breakeven\n",
      "All Trades | Avg Trade 0.01% | SD 0.41%\n",
      "Winners | Avg Trade 0.28% | SD 0.33%\n",
      "Losers | Avg Trade -0.26% | SD 0.33%\n",
      "Profit Factor: 1.0501686433778488 | Gross Profit: 152.35% | Gross Loss: -145.07%\n",
      "----------------\n",
      "BNB-USD | Total P/L % :: 30.02%\n",
      "Winrate 53.90% | 1245 Trades, 629 Winners, 538 Losers, 78 Breakeven\n",
      "All Trades | Avg Trade 0.02% | SD 0.44%\n",
      "Winners | Avg Trade 0.29% | SD 0.37%\n",
      "Losers | Avg Trade -0.29% | SD 0.33%\n",
      "Profit Factor: 1.1945617990587647 | Gross Profit: 184.34% | Gross Loss: -154.32%\n",
      "----------------\n",
      "LUNA1-USD | Total P/L % :: 50.68%\n",
      "Winrate 54.18% | 2358 Trades, 1180 Winners, 998 Losers, 180 Breakeven\n",
      "All Trades | Avg Trade 0.02% | SD 0.49%\n",
      "Winners | Avg Trade 0.35% | SD 0.34%\n",
      "Losers | Avg Trade -0.36% | SD 0.39%\n",
      "Profit Factor: 1.1393385435967547 | Gross Profit: 414.38% | Gross Loss: -363.70%\n",
      "----------------\n",
      "ALGO-USD | Total P/L % :: -9.09%\n",
      "Winrate 51.15% | 1242 Trades, 577 Winners, 551 Losers, 114 Breakeven\n",
      "All Trades | Avg Trade -0.01% | SD 0.55%\n",
      "Winners | Avg Trade 0.34% | SD 0.36%\n",
      "Losers | Avg Trade -0.38% | SD 0.52%\n",
      "Profit Factor: 0.9563075557946746 | Gross Profit: 198.91% | Gross Loss: -208.00%\n",
      "----------------\n",
      "HEX-USD | Total P/L % :: 33.37%\n",
      "Winrate 52.29% | 1392 Trades, 684 Winners, 624 Losers, 84 Breakeven\n",
      "All Trades | Avg Trade 0.02% | SD 0.44%\n",
      "Winners | Avg Trade 0.31% | SD 0.34%\n",
      "Losers | Avg Trade -0.29% | SD 0.32%\n",
      "Profit Factor: 1.184087073294854 | Gross Profit: 214.64% | Gross Loss: -181.27%\n",
      "----------------\n",
      "AVAX-USD | Total P/L % :: 6.22%\n",
      "Winrate 52.57% | 1235 Trades, 593 Winners, 535 Losers, 107 Breakeven\n",
      "All Trades | Avg Trade 0.01% | SD 0.49%\n",
      "Winners | Avg Trade 0.34% | SD 0.31%\n",
      "Losers | Avg Trade -0.37% | SD 0.43%\n",
      "Profit Factor: 1.0316654781994263 | Gross Profit: 202.75% | Gross Loss: -196.53%\n",
      "----------------\n",
      "DOGE-USD | Total P/L % :: -1.66%\n",
      "Winrate 49.95% | 1125 Trades, 514 Winners, 515 Losers, 96 Breakeven\n",
      "All Trades | Avg Trade -0.00% | SD 0.63%\n",
      "Winners | Avg Trade 0.41% | SD 0.51%\n",
      "Losers | Avg Trade -0.42% | SD 0.51%\n",
      "Profit Factor: 0.9922566583758843 | Gross Profit: 212.92% | Gross Loss: -214.58%\n",
      "----------------\n"
     ]
    }
   ],
   "source": [
    "for token in [\"QQQ\", \"BTC-USD\", \"ETH-USD\", \"BNB-USD\", \"LUNA1-USD\", \"ALGO-USD\", \"HEX-USD\", \"AVAX-USD\", \"DOGE-USD\"]:\n",
    "    stats(np.array(trades_by_token[token]), token)\n",
    "    print(\"----------------\")"
   ]
  },
  {
   "cell_type": "code",
   "execution_count": 184,
   "metadata": {},
   "outputs": [
    {
     "data": {
      "text/plain": [
       "'\\nQQQ | Total P/L % :: -4.67%\\nWinrate 50.00% | 257 Trades, 71 Winners, 71 Losers, 115 Breakeven\\nAll Trades | Avg Trade -0.02% | SD 0.37%\\nWinners | Avg Trade 0.36% | SD 0.24%\\nLosers | Avg Trade -0.42% | SD 0.35%\\nProfit Factor: 0.8439297984360714 | Gross Profit: 25.26% | Gross Loss: -29.93%\\n----------------\\nBTC-USD | Total P/L % :: 5.92%\\nWinrate 52.60% | 1016 Trades, 485 Winners, 437 Losers, 94 Breakeven\\nAll Trades | Avg Trade 0.01% | SD 0.52%\\nWinners | Avg Trade 0.30% | SD 0.40%\\nLosers | Avg Trade -0.32% | SD 0.50%\\nProfit Factor: 1.0425461208948326 | Gross Profit: 144.96% | Gross Loss: -139.04%\\n----------------\\nETH-USD | Total P/L % :: 7.28%\\nWinrate 49.40% | 1166 Trades, 536 Winners, 549 Losers, 81 Breakeven\\nAll Trades | Avg Trade 0.01% | SD 0.41%\\nWinners | Avg Trade 0.28% | SD 0.33%\\nLosers | Avg Trade -0.26% | SD 0.33%\\nProfit Factor: 1.0501686433778488 | Gross Profit: 152.35% | Gross Loss: -145.07%\\n----------------\\nBNB-USD | Total P/L % :: 30.02%\\nWinrate 53.90% | 1245 Trades, 629 Winners, 538 Losers, 78 Breakeven\\nAll Trades | Avg Trade 0.02% | SD 0.44%\\nWinners | Avg Trade 0.29% | SD 0.37%\\nLosers | Avg Trade -0.29% | SD 0.33%\\nProfit Factor: 1.1945617990587647 | Gross Profit: 184.34% | Gross Loss: -154.32%\\n----------------\\nLUNA1-USD | Total P/L % :: 50.68%\\nWinrate 54.18% | 2358 Trades, 1180 Winners, 998 Losers, 180 Breakeven\\nAll Trades | Avg Trade 0.02% | SD 0.49%\\nWinners | Avg Trade 0.35% | SD 0.34%\\nLosers | Avg Trade -0.36% | SD 0.39%\\nProfit Factor: 1.1393385435967547 | Gross Profit: 414.38% | Gross Loss: -363.70%\\n----------------\\nALGO-USD | Total P/L % :: -9.09%\\nWinrate 51.15% | 1242 Trades, 577 Winners, 551 Losers, 114 Breakeven\\nAll Trades | Avg Trade -0.01% | SD 0.55%\\nWinners | Avg Trade 0.34% | SD 0.36%\\nLosers | Avg Trade -0.38% | SD 0.52%\\nProfit Factor: 0.9563075557946746 | Gross Profit: 198.91% | Gross Loss: -208.00%\\n----------------\\nHEX-USD | Total P/L % :: 33.37%\\nWinrate 52.29% | 1392 Trades, 684 Winners, 624 Losers, 84 Breakeven\\nAll Trades | Avg Trade 0.02% | SD 0.44%\\nWinners | Avg Trade 0.31% | SD 0.34%\\nLosers | Avg Trade -0.29% | SD 0.32%\\nProfit Factor: 1.184087073294854 | Gross Profit: 214.64% | Gross Loss: -181.27%\\n----------------\\nAVAX-USD | Total P/L % :: 6.22%\\nWinrate 52.57% | 1235 Trades, 593 Winners, 535 Losers, 107 Breakeven\\nAll Trades | Avg Trade 0.01% | SD 0.49%\\nWinners | Avg Trade 0.34% | SD 0.31%\\nLosers | Avg Trade -0.37% | SD 0.43%\\nProfit Factor: 1.0316654781994263 | Gross Profit: 202.75% | Gross Loss: -196.53%\\n----------------\\nDOGE-USD | Total P/L % :: -1.66%\\nWinrate 49.95% | 1125 Trades, 514 Winners, 515 Losers, 96 Breakeven\\nAll Trades | Avg Trade -0.00% | SD 0.63%\\nWinners | Avg Trade 0.41% | SD 0.51%\\nLosers | Avg Trade -0.42% | SD 0.51%\\nProfit Factor: 0.9922566583758843 | Gross Profit: 212.92% | Gross Loss: -214.58%\\n----------------\\n\\n'"
      ]
     },
     "execution_count": 184,
     "metadata": {},
     "output_type": "execute_result"
    }
   ],
   "source": [
    "\"\"\"\n",
    "QQQ | Total P/L % :: -4.67%\n",
    "Winrate 50.00% | 257 Trades, 71 Winners, 71 Losers, 115 Breakeven\n",
    "All Trades | Avg Trade -0.02% | SD 0.37%\n",
    "Winners | Avg Trade 0.36% | SD 0.24%\n",
    "Losers | Avg Trade -0.42% | SD 0.35%\n",
    "Profit Factor: 0.8439297984360714 | Gross Profit: 25.26% | Gross Loss: -29.93%\n",
    "----------------\n",
    "BTC-USD | Total P/L % :: 5.92%\n",
    "Winrate 52.60% | 1016 Trades, 485 Winners, 437 Losers, 94 Breakeven\n",
    "All Trades | Avg Trade 0.01% | SD 0.52%\n",
    "Winners | Avg Trade 0.30% | SD 0.40%\n",
    "Losers | Avg Trade -0.32% | SD 0.50%\n",
    "Profit Factor: 1.0425461208948326 | Gross Profit: 144.96% | Gross Loss: -139.04%\n",
    "----------------\n",
    "ETH-USD | Total P/L % :: 7.28%\n",
    "Winrate 49.40% | 1166 Trades, 536 Winners, 549 Losers, 81 Breakeven\n",
    "All Trades | Avg Trade 0.01% | SD 0.41%\n",
    "Winners | Avg Trade 0.28% | SD 0.33%\n",
    "Losers | Avg Trade -0.26% | SD 0.33%\n",
    "Profit Factor: 1.0501686433778488 | Gross Profit: 152.35% | Gross Loss: -145.07%\n",
    "----------------\n",
    "BNB-USD | Total P/L % :: 30.02%\n",
    "Winrate 53.90% | 1245 Trades, 629 Winners, 538 Losers, 78 Breakeven\n",
    "All Trades | Avg Trade 0.02% | SD 0.44%\n",
    "Winners | Avg Trade 0.29% | SD 0.37%\n",
    "Losers | Avg Trade -0.29% | SD 0.33%\n",
    "Profit Factor: 1.1945617990587647 | Gross Profit: 184.34% | Gross Loss: -154.32%\n",
    "----------------\n",
    "LUNA1-USD | Total P/L % :: 50.68%\n",
    "Winrate 54.18% | 2358 Trades, 1180 Winners, 998 Losers, 180 Breakeven\n",
    "All Trades | Avg Trade 0.02% | SD 0.49%\n",
    "Winners | Avg Trade 0.35% | SD 0.34%\n",
    "Losers | Avg Trade -0.36% | SD 0.39%\n",
    "Profit Factor: 1.1393385435967547 | Gross Profit: 414.38% | Gross Loss: -363.70%\n",
    "----------------\n",
    "ALGO-USD | Total P/L % :: -9.09%\n",
    "Winrate 51.15% | 1242 Trades, 577 Winners, 551 Losers, 114 Breakeven\n",
    "All Trades | Avg Trade -0.01% | SD 0.55%\n",
    "Winners | Avg Trade 0.34% | SD 0.36%\n",
    "Losers | Avg Trade -0.38% | SD 0.52%\n",
    "Profit Factor: 0.9563075557946746 | Gross Profit: 198.91% | Gross Loss: -208.00%\n",
    "----------------\n",
    "HEX-USD | Total P/L % :: 33.37%\n",
    "Winrate 52.29% | 1392 Trades, 684 Winners, 624 Losers, 84 Breakeven\n",
    "All Trades | Avg Trade 0.02% | SD 0.44%\n",
    "Winners | Avg Trade 0.31% | SD 0.34%\n",
    "Losers | Avg Trade -0.29% | SD 0.32%\n",
    "Profit Factor: 1.184087073294854 | Gross Profit: 214.64% | Gross Loss: -181.27%\n",
    "----------------\n",
    "AVAX-USD | Total P/L % :: 6.22%\n",
    "Winrate 52.57% | 1235 Trades, 593 Winners, 535 Losers, 107 Breakeven\n",
    "All Trades | Avg Trade 0.01% | SD 0.49%\n",
    "Winners | Avg Trade 0.34% | SD 0.31%\n",
    "Losers | Avg Trade -0.37% | SD 0.43%\n",
    "Profit Factor: 1.0316654781994263 | Gross Profit: 202.75% | Gross Loss: -196.53%\n",
    "----------------\n",
    "DOGE-USD | Total P/L % :: -1.66%\n",
    "Winrate 49.95% | 1125 Trades, 514 Winners, 515 Losers, 96 Breakeven\n",
    "All Trades | Avg Trade -0.00% | SD 0.63%\n",
    "Winners | Avg Trade 0.41% | SD 0.51%\n",
    "Losers | Avg Trade -0.42% | SD 0.51%\n",
    "Profit Factor: 0.9922566583758843 | Gross Profit: 212.92% | Gross Loss: -214.58%\n",
    "----------------\n",
    "\n",
    "\"\"\""
   ]
  },
  {
   "cell_type": "code",
   "execution_count": 171,
   "metadata": {},
   "outputs": [
    {
     "name": "stdout",
     "output_type": "stream",
     "text": [
      "Fixed Trades | Total P/L % :: 66.01%\n",
      "Winrate 52.43% | 3878 Trades, 1847 Winners, 1676 Losers, 355 Breakeven\n",
      "All Trades | Avg Trade 0.02% | SD 0.49%\n",
      "Winners | Avg Trade 0.34% | SD 0.38%\n",
      "Losers | Avg Trade -0.33% | SD 0.39%\n",
      "Profit Factor: 1.1190124798731227 | Gross Profit: 620.64% | Gross Loss: -554.63%\n"
     ]
    }
   ],
   "source": [
    "fixed_trades = []\n",
    "for day in history.keys():\n",
    "    _, pnls, pnls_dict, trades, trades_dict = history[day]\n",
    "    for key in trades_dict.keys():\n",
    "        if \"XRP-USD\" in key or \"ADA-USD\" in key:\n",
    "            continue\n",
    "        fixed_trades += trades_dict[key]\n",
    "stats(np.array(fixed_trades), \"Fixed Trades\")"
   ]
  },
  {
   "cell_type": "code",
   "execution_count": 70,
   "metadata": {},
   "outputs": [
    {
     "name": "stdout",
     "output_type": "stream",
     "text": [
      "HEX-USDBNB-USD | 3.02\n",
      "HEX-USDLUNA1-USD | 2.51\n",
      "ETH-USDLUNA1-USD | 2.36\n",
      "AVAX-USDBNB-USD | 2.01\n",
      "BTC-USDETH-USD | 1.90\n",
      "ADA-USDLUNA1-USD | 1.86\n",
      "BTC-USDBNB-USD | 1.70\n",
      "DOGE-USDETH-USD | 1.62\n",
      "BNB-USDALGO-USD | 1.61\n",
      "DOGE-USDADA-USD | 1.58\n",
      "ALGO-USDBNB-USD | 1.56\n",
      "XRP-USDETH-USD | 1.55\n",
      "DOGE-USDALGO-USD | 1.46\n",
      "ADA-USDHEX-USD | 1.39\n",
      "XRP-USDADA-USD | 1.30\n",
      "BNB-USDBTC-USD | 1.28\n",
      "BTC-USDADA-USD | 1.25\n",
      "LUNA1-USDETH-USD | 1.18\n",
      "BNB-USDETH-USD | 1.18\n",
      "ETH-USDALGO-USD | 1.17\n",
      "ALGO-USDHEX-USD | 1.12\n",
      "HEX-USDALGO-USD | 1.11\n",
      "XRP-USDLUNA1-USD | 1.10\n",
      "LUNA1-USDADA-USD | 1.05\n",
      "AVAX-USDALGO-USD | 1.01\n"
     ]
    }
   ],
   "source": [
    "inds = np.argsort(-np.array(pnls))\n",
    "symbs = [*pair_symbols]\n",
    "for i in range(25):\n",
    "    ind = inds[i]\n",
    "    print(f\"{symbs[ind]} | {pnls[ind]:.2f}\")"
   ]
  },
  {
   "cell_type": "code",
   "execution_count": null,
   "metadata": {},
   "outputs": [],
   "source": []
  },
  {
   "cell_type": "code",
   "execution_count": 71,
   "metadata": {},
   "outputs": [
    {
     "name": "stdout",
     "output_type": "stream",
     "text": [
      "XRP-USDAVAX-USD | -1.19\n",
      "QQQDOGE-USD | -1.19\n",
      "QQQBTC-USD | -1.12\n",
      "BTC-USDQQQ | -1.05\n",
      "AVAX-USDXRP-USD | -1.00\n",
      "XRP-USDQQQ | -0.94\n",
      "AVAX-USDDOGE-USD | -0.90\n",
      "ALGO-USDLUNA1-USD | -0.83\n",
      "BNB-USDXRP-USD | -0.76\n",
      "ALGO-USDADA-USD | -0.68\n",
      "AVAX-USDHEX-USD | -0.67\n",
      "DOGE-USDHEX-USD | -0.67\n",
      "DOGE-USDQQQ | -0.66\n",
      "LUNA1-USDDOGE-USD | -0.55\n",
      "BTC-USDHEX-USD | -0.42\n",
      "ALGO-USDDOGE-USD | -0.41\n",
      "ALGO-USDXRP-USD | -0.36\n",
      "BTC-USDXRP-USD | -0.33\n",
      "QQQXRP-USD | -0.32\n",
      "HEX-USDBTC-USD | -0.29\n",
      "ADA-USDAVAX-USD | -0.27\n",
      "XRP-USDHEX-USD | -0.26\n",
      "BNB-USDQQQ | -0.26\n",
      "BTC-USDDOGE-USD | -0.24\n",
      "ALGO-USDAVAX-USD | -0.21\n"
     ]
    }
   ],
   "source": [
    "inds = np.argsort(np.array(pnls))\n",
    "symbs = [*pair_symbols]\n",
    "for i in range(25):\n",
    "    ind = inds[i]\n",
    "    print(f\"{symbs[ind]} | {pnls[ind]:.2f}\")"
   ]
  },
  {
   "cell_type": "code",
   "execution_count": 72,
   "metadata": {},
   "outputs": [],
   "source": [
    "trades = np.array(trades)\n",
    "wins = trades[trades > 0]\n",
    "losses = trades[trades < 0]\n",
    "scratch = trades[trades == 0]"
   ]
  },
  {
   "cell_type": "code",
   "execution_count": 73,
   "metadata": {},
   "outputs": [
    {
     "name": "stdout",
     "output_type": "stream",
     "text": [
      "All Trades | Total P/L % :: 44.45%\n",
      "Winrate 56.40% | 437 Trades, 229 Winners, 177 Losers, 31 Breakeven\n",
      "All Trades | Avg Trade 0.10% | SD 0.52%\n",
      "Winners | Avg Trade 0.45% | SD 0.44%\n",
      "Losers | Avg Trade -0.33% | SD 0.27%\n",
      "Profit Factor: 1.7557963812847739 | Gross Profit: 103.26% | Gross Loss: -58.81%\n"
     ]
    }
   ],
   "source": [
    "def stats(trades, name):\n",
    "    def sub_stats(trades, name):\n",
    "        avg = np.mean(trades)\n",
    "        sd = np.std(trades)\n",
    "        print(f\"{name} | Avg Trade {avg:.2f}% | SD {sd:.2f}%\")\n",
    "    \n",
    "    wins = trades[trades > 0]\n",
    "    losses = trades[trades < 0]\n",
    "    scratch = trades[trades == 0]\n",
    "    \n",
    "    print(f\"{name} | Total P/L % :: {np.sum(trades):.2f}%\")\n",
    "    print(f\"Winrate {100*len(wins) / (len(trades) - len(scratch)):.2f}% | {len(trades)} Trades, {len(wins)} Winners, {len(losses)} Losers, {len(scratch)} Breakeven\")\n",
    "    sub_stats(trades, \"All Trades\")\n",
    "    sub_stats(wins, \"Winners\")\n",
    "    sub_stats(losses, \"Losers\")\n",
    "    print(f\"Profit Factor: {abs(np.sum(wins) / np.sum(losses))} | Gross Profit: {np.sum(wins):.2f}% | Gross Loss: {np.sum(losses):.2f}%\")\n",
    "\n",
    "stats(trades, \"All Trades\")\n",
    "    \n",
    "    "
   ]
  },
  {
   "cell_type": "code",
   "execution_count": null,
   "metadata": {},
   "outputs": [],
   "source": []
  }
 ],
 "metadata": {
  "interpreter": {
   "hash": "0b7367f57bf9904af5d15e1685ff3d84137deb646b78f1ef6564f95c07baf8ac"
  },
  "kernelspec": {
   "display_name": "Python 3 (ipykernel)",
   "language": "python",
   "name": "python3"
  },
  "language_info": {
   "codemirror_mode": {
    "name": "ipython",
    "version": 3
   },
   "file_extension": ".py",
   "mimetype": "text/x-python",
   "name": "python",
   "nbconvert_exporter": "python",
   "pygments_lexer": "ipython3",
   "version": "3.7.4"
  },
  "varInspector": {
   "cols": {
    "lenName": 16,
    "lenType": 16,
    "lenVar": 40
   },
   "kernels_config": {
    "python": {
     "delete_cmd_postfix": "",
     "delete_cmd_prefix": "del ",
     "library": "var_list.py",
     "varRefreshCmd": "print(var_dic_list())"
    },
    "r": {
     "delete_cmd_postfix": ") ",
     "delete_cmd_prefix": "rm(",
     "library": "var_list.r",
     "varRefreshCmd": "cat(var_dic_list()) "
    }
   },
   "types_to_exclude": [
    "module",
    "function",
    "builtin_function_or_method",
    "instance",
    "_Feature"
   ],
   "window_display": false
  }
 },
 "nbformat": 4,
 "nbformat_minor": 2
}
