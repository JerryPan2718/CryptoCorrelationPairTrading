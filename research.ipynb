{
 "cells": [
  {
   "cell_type": "code",
   "execution_count": null,
   "metadata": {},
   "outputs": [],
   "source": [
    "import json, sys, os, glob\n",
    "import pandas as pd\n",
    "from datetime import date, time, datetime, timedelta\n"
   ]
  },
  {
   "cell_type": "code",
   "execution_count": null,
   "metadata": {},
   "outputs": [],
   "source": [
    "symbol = \"BTCUSDT\"\n",
    "base_tf = \"1d\""
   ]
  },
  {
   "cell_type": "code",
   "execution_count": null,
   "metadata": {},
   "outputs": [],
   "source": [
    "#Put csv data into pandas dataframe\n",
    "folder_path = f\"./data/spot/monthly/klines/{symbol}/{base_tf}/2017-07-01_2022-04-01/\"\n",
    "col_names = ['ts', 'open', 'high', 'low', 'close', 'volume', 'close_ts', 'asset_volume', 'num_trades', 'i','d','k']\n",
    "all_files = glob.glob(folder_path + \"*.csv\")\n",
    "df_list = (pd.read_csv(f, names=col_names, usecols=[0, 1, 2, 3, 4, 5], index_col=0) for f in all_files)\n",
    "df = pd.concat(df_list)\n",
    "\n",
    "#Convert epoch int into actual datetime\n",
    "df.index = df.index.map(lambda x: datetime.utcfromtimestamp(int(x)/1000))\n"
   ]
  }
 ],
 "metadata": {
  "language_info": {
   "name": "python"
  },
  "orig_nbformat": 4
 },
 "nbformat": 4,
 "nbformat_minor": 2
}
