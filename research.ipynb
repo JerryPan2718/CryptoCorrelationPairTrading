{
 "cells": [
  {
   "cell_type": "code",
   "execution_count": 2,
   "metadata": {},
   "outputs": [],
   "source": [
    "import json, sys, os, glob\n",
    "import pandas as pd\n",
    "from datetime import date, time, datetime, timedelta\n",
    "import matplotlib.pyplot as plt\n",
    "from scipy import signal\n",
    "import numpy as np"
   ]
  },
  {
   "cell_type": "code",
   "execution_count": 5,
   "metadata": {},
   "outputs": [],
   "source": [
    "def csv_to_df(symbol, base_tf=\"1d\"):\n",
    "    folder_path = f\"./data/spot/monthly/klines/{symbol}/{base_tf}/2017-07-01_2022-04-01/\"\n",
    "    col_names = ['ts', 'open', 'high', 'low', 'close', 'volume', 'close_ts', 'asset_volume', 'num_trades', 'i','d','k']\n",
    "    #Put csv data into pandas dataframe\n",
    "    all_files = glob.glob(folder_path + \"*.csv\")\n",
    "    df_list = (pd.read_csv(f, names=col_names, usecols=[0, 1, 2, 3, 4, 5], index_col=0) for f in all_files)\n",
    "    df = pd.concat(df_list)\n",
    "\n",
    "    #Convert epoch int into actual datetime\n",
    "    df.index = df.index.map(lambda x: datetime.utcfromtimestamp(int(x)/1000))\n",
    "    return df\n",
    "\n",
    "btc = csv_to_df(\"BTCUSDT\")\n",
    "eth = csv_to_df(\"ETHUSDT\")"
   ]
  },
  {
   "cell_type": "code",
   "execution_count": 6,
   "metadata": {},
   "outputs": [
    {
     "data": {
      "text/html": [
       "<div>\n",
       "<style scoped>\n",
       "    .dataframe tbody tr th:only-of-type {\n",
       "        vertical-align: middle;\n",
       "    }\n",
       "\n",
       "    .dataframe tbody tr th {\n",
       "        vertical-align: top;\n",
       "    }\n",
       "\n",
       "    .dataframe thead th {\n",
       "        text-align: right;\n",
       "    }\n",
       "</style>\n",
       "<table border=\"1\" class=\"dataframe\">\n",
       "  <thead>\n",
       "    <tr style=\"text-align: right;\">\n",
       "      <th></th>\n",
       "      <th>open</th>\n",
       "      <th>high</th>\n",
       "      <th>low</th>\n",
       "      <th>close</th>\n",
       "      <th>volume</th>\n",
       "    </tr>\n",
       "    <tr>\n",
       "      <th>ts</th>\n",
       "      <th></th>\n",
       "      <th></th>\n",
       "      <th></th>\n",
       "      <th></th>\n",
       "      <th></th>\n",
       "    </tr>\n",
       "  </thead>\n",
       "  <tbody>\n",
       "    <tr>\n",
       "      <th>2017-08-17</th>\n",
       "      <td>301.13</td>\n",
       "      <td>312.18</td>\n",
       "      <td>298.00</td>\n",
       "      <td>302.00</td>\n",
       "      <td>7030.71034</td>\n",
       "    </tr>\n",
       "    <tr>\n",
       "      <th>2017-08-18</th>\n",
       "      <td>302.00</td>\n",
       "      <td>311.79</td>\n",
       "      <td>283.94</td>\n",
       "      <td>293.96</td>\n",
       "      <td>9537.84646</td>\n",
       "    </tr>\n",
       "    <tr>\n",
       "      <th>2017-08-19</th>\n",
       "      <td>293.31</td>\n",
       "      <td>299.90</td>\n",
       "      <td>278.00</td>\n",
       "      <td>290.91</td>\n",
       "      <td>2146.19773</td>\n",
       "    </tr>\n",
       "    <tr>\n",
       "      <th>2017-08-20</th>\n",
       "      <td>289.41</td>\n",
       "      <td>300.53</td>\n",
       "      <td>282.85</td>\n",
       "      <td>299.10</td>\n",
       "      <td>2510.13871</td>\n",
       "    </tr>\n",
       "    <tr>\n",
       "      <th>2017-08-21</th>\n",
       "      <td>299.10</td>\n",
       "      <td>346.52</td>\n",
       "      <td>294.60</td>\n",
       "      <td>323.29</td>\n",
       "      <td>5219.44542</td>\n",
       "    </tr>\n",
       "  </tbody>\n",
       "</table>\n",
       "</div>"
      ],
      "text/plain": [
       "              open    high     low   close      volume\n",
       "ts                                                    \n",
       "2017-08-17  301.13  312.18  298.00  302.00  7030.71034\n",
       "2017-08-18  302.00  311.79  283.94  293.96  9537.84646\n",
       "2017-08-19  293.31  299.90  278.00  290.91  2146.19773\n",
       "2017-08-20  289.41  300.53  282.85  299.10  2510.13871\n",
       "2017-08-21  299.10  346.52  294.60  323.29  5219.44542"
      ]
     },
     "execution_count": 6,
     "metadata": {},
     "output_type": "execute_result"
    }
   ],
   "source": [
    "btc.head()\n",
    "eth.head()"
   ]
  },
  {
   "cell_type": "code",
   "execution_count": 7,
   "metadata": {},
   "outputs": [
    {
     "name": "stdout",
     "output_type": "stream",
     "text": [
      "y2 is 0.5002963841137671 behind y1\n"
     ]
    },
    {
     "data": {
      "image/png": "[encoded data removed]",
      "text/plain": [
       "<Figure size 432x288 with 1 Axes>"
      ]
     },
     "metadata": {
      "needs_background": "light"
     },
     "output_type": "display_data"
    }
   ],
   "source": [
    "def lag_finder(y1, y2, sr):\n",
    "    n = len(y1)\n",
    "\n",
    "    corr = signal.correlate(y2, y1, mode='same') / np.sqrt(signal.correlate(y1, y1, mode='same')[int(n/2)] * signal.correlate(y2, y2, mode='same')[int(n/2)])\n",
    "\n",
    "    delay_arr = np.linspace(-0.5*n/sr, 0.5*n/sr, n)\n",
    "    delay = delay_arr[np.argmax(corr)]\n",
    "    print('y2 is ' + str(delay) + ' behind y1')\n",
    "\n",
    "    plt.figure()\n",
    "    plt.plot(delay_arr, corr)\n",
    "    plt.title('Lag: ' + str(np.round(delay, 3)) + ' s')\n",
    "    plt.xlabel('Lag')\n",
    "    plt.ylabel('Correlation coeff')\n",
    "    plt.show()\n",
    "\n",
    "# Sine sample with some noise and copy to y1 and y2 with a 1-second lag\n",
    "sr = 1\n",
    "# y = np.linspace(0, 2*np.pi, sr)\n",
    "# y = np.tile(np.sin(y), 5)\n",
    "# y += np.random.normal(0, 5, y.shape)\n",
    "# y1 = y[sr:4*sr]\n",
    "# y2 = y[:3*sr]\n",
    "\n",
    "lag_finder(btc['close'], eth['close'], sr)"
   ]
  },
  {
   "cell_type": "code",
   "execution_count": null,
   "metadata": {},
   "outputs": [],
   "source": []
  }
 ],
 "metadata": {
  "interpreter": {
   "hash": "52b9590b180886adb4f604ee438d81a6419d87cdf88c5f5f33d8e68e1a70c593"
  },
  "kernelspec": {
   "display_name": "Python 3.7.4 ('venv': venv)",
   "language": "python",
   "name": "python3"
  },
  "language_info": {
   "codemirror_mode": {
    "name": "ipython",
    "version": 3
   },
   "file_extension": ".py",
   "mimetype": "text/x-python",
   "name": "python",
   "nbconvert_exporter": "python",
   "pygments_lexer": "ipython3",
   "version": "3.7.4"
  },
  "orig_nbformat": 4
 },
 "nbformat": 4,
 "nbformat_minor": 2
}
