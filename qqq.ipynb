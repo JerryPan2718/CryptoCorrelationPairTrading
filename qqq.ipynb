{
 "cells": [
  {
   "cell_type": "code",
   "execution_count": 29,
   "metadata": {},
   "outputs": [],
   "source": [
    "import yfinance as yf\n",
    "import numpy as np\n",
    "import pandas as pd\n",
    "import matplotlib.pyplot as plt\n",
    "from scipy import signal"
   ]
  },
  {
   "cell_type": "code",
   "execution_count": 11,
   "metadata": {},
   "outputs": [
    {
     "name": "stdout",
     "output_type": "stream",
     "text": [
      "[*********************100%***********************]  1 of 1 completed\n",
      "[*********************100%***********************]  1 of 1 completed\n",
      "                                 Open        High         Low       Close  \\\n",
      "Datetime                                                                    \n",
      "2022-04-18 15:56:00-04:00  338.059998  338.410004  338.035004  338.299988   \n",
      "2022-04-18 15:57:00-04:00  338.290009  338.429993  338.190002  338.290009   \n",
      "2022-04-18 15:58:00-04:00  338.279999  338.420013  338.200012  338.410004   \n",
      "2022-04-18 15:59:00-04:00  338.410004  338.950012  338.369995  338.950012   \n",
      "2022-04-18 16:00:00-04:00  338.690002  338.690002  338.690002  338.690002   \n",
      "\n",
      "                            Adj Close  Volume  \n",
      "Datetime                                       \n",
      "2022-04-18 15:56:00-04:00  338.299988  395669  \n",
      "2022-04-18 15:57:00-04:00  338.290009  214414  \n",
      "2022-04-18 15:58:00-04:00  338.410004  434876  \n",
      "2022-04-18 15:59:00-04:00  338.950012  717944  \n",
      "2022-04-18 16:00:00-04:00  338.690002       0  \n",
      "                                   Open          High           Low  \\\n",
      "Datetime                                                              \n",
      "2022-04-18 23:56:00+00:00  40845.621094  40845.621094  40845.621094   \n",
      "2022-04-18 23:58:00+00:00  40830.992188  40830.992188  40830.992188   \n",
      "2022-04-19 00:00:00+00:00  40828.175781  40828.175781  40828.175781   \n",
      "2022-04-19 00:01:00+00:00  40825.128906  40825.128906  40825.128906   \n",
      "2022-04-19 00:02:00+00:00  40827.367188  40827.367188  40827.367188   \n",
      "\n",
      "                                  Close     Adj Close  Volume  \n",
      "Datetime                                                       \n",
      "2022-04-18 23:56:00+00:00  40845.621094  40845.621094       0  \n",
      "2022-04-18 23:58:00+00:00  40830.992188  40830.992188       0  \n",
      "2022-04-19 00:00:00+00:00  40828.175781  40828.175781       0  \n",
      "2022-04-19 00:01:00+00:00  40825.128906  40825.128906       0  \n",
      "2022-04-19 00:02:00+00:00  40827.367188  40827.367188       0  \n"
     ]
    }
   ],
   "source": [
    "# Get the data\n",
    "qqq = yf.download(tickers=\"QQQ\", period=\"24h\", interval=\"1m\")\n",
    "btc = yf.download(tickers=\"BTC-USD\", period=\"24h\", interval=\"1m\")\n",
    "\n",
    "# Print the data\n",
    "print(qqq.tail())\n",
    "print(btc.tail())"
   ]
  },
  {
   "cell_type": "code",
   "execution_count": 15,
   "metadata": {},
   "outputs": [
    {
     "name": "stdout",
     "output_type": "stream",
     "text": [
      "                             Open_qqq    High_qqq     Low_qqq   Close_qqq  \\\n",
      "Datetime                                                                    \n",
      "2022-04-18 15:54:00-04:00  337.589996  337.605011  337.489990  337.570007   \n",
      "2022-04-18 15:55:00-04:00  337.855011  338.070007  337.839996  338.065002   \n",
      "2022-04-18 15:56:00-04:00  338.059998  338.410004  338.035004  338.299988   \n",
      "2022-04-18 15:57:00-04:00  338.290009  338.429993  338.190002  338.290009   \n",
      "2022-04-18 15:58:00-04:00  338.279999  338.420013  338.200012  338.410004   \n",
      "\n",
      "                           Adj Close_qqq  Volume_qqq      Open_btc  \\\n",
      "Datetime                                                             \n",
      "2022-04-18 15:54:00-04:00     337.570007       25354  40482.136719   \n",
      "2022-04-18 15:55:00-04:00     338.065002      560884  40504.167969   \n",
      "2022-04-18 15:56:00-04:00     338.299988      395669  40510.152344   \n",
      "2022-04-18 15:57:00-04:00     338.290009      214414  40543.585938   \n",
      "2022-04-18 15:58:00-04:00     338.410004      434876  40607.152344   \n",
      "\n",
      "                               High_btc       Low_btc     Close_btc  \\\n",
      "Datetime                                                              \n",
      "2022-04-18 15:54:00-04:00  40482.136719  40482.136719  40482.136719   \n",
      "2022-04-18 15:55:00-04:00  40504.167969  40504.167969  40504.167969   \n",
      "2022-04-18 15:56:00-04:00  40510.152344  40510.152344  40510.152344   \n",
      "2022-04-18 15:57:00-04:00  40543.585938  40543.585938  40543.585938   \n",
      "2022-04-18 15:58:00-04:00  40607.152344  40607.152344  40607.152344   \n",
      "\n",
      "                           Adj Close_btc  Volume_btc  \n",
      "Datetime                                              \n",
      "2022-04-18 15:54:00-04:00   40482.136719     8091648  \n",
      "2022-04-18 15:55:00-04:00   40504.167969           0  \n",
      "2022-04-18 15:56:00-04:00   40510.152344     6897664  \n",
      "2022-04-18 15:57:00-04:00   40543.585938    30300160  \n",
      "2022-04-18 15:58:00-04:00   40607.152344    50343936  \n"
     ]
    }
   ],
   "source": [
    "df = qqq.merge(btc,how=\"inner\", left_on=\"Datetime\", right_on=\"Datetime\", suffixes=[\"_qqq\",\"_btc\"])\n",
    "print(df.tail())"
   ]
  },
  {
   "cell_type": "code",
   "execution_count": 16,
   "metadata": {},
   "outputs": [],
   "source": [
    "y1 = df['Close_qqq']\n",
    "y2 = df['Close_btc']\n",
    "y1 = (y1 - np.mean(y1)) / np.std(y1)\n",
    "y2 = (y2 - np.mean(y2)) / np.std(y2)"
   ]
  },
  {
   "cell_type": "code",
   "execution_count": 26,
   "metadata": {},
   "outputs": [
    {
     "data": {
      "text/plain": [
       "[<matplotlib.lines.Line2D at 0x24d4263c6d0>]"
      ]
     },
     "execution_count": 26,
     "metadata": {},
     "output_type": "execute_result"
    },
    {
     "data": {
      "image/png": "[encoded data removed]",
      "text/plain": [
       "<Figure size 432x288 with 1 Axes>"
      ]
     },
     "metadata": {
      "needs_background": "light"
     },
     "output_type": "display_data"
    }
   ],
   "source": [
    "plt.plot(range(len(y1)),y1, label=\"qqq\")\n",
    "plt.plot(range(len(y2)),y2, label=\"btc\")"
   ]
  },
  {
   "cell_type": "code",
   "execution_count": 36,
   "metadata": {},
   "outputs": [
    {
     "name": "stdout",
     "output_type": "stream",
     "text": [
      "257 257\n",
      "(6, 99.04064460017995)\n"
     ]
    }
   ],
   "source": [
    "def max_offset(df1, df2):\n",
    "    print(len(df1), len(df2))\n",
    "    corrs = signal.correlate(df1, df2, mode='full')\n",
    "    return np.argmax(corrs) - len(df1) + 1, corrs[np.argmax(corrs)]\n",
    "print(max_offset(y1,y2))"
   ]
  },
  {
   "cell_type": "code",
   "execution_count": null,
   "metadata": {},
   "outputs": [],
   "source": []
  }
 ],
 "metadata": {
  "interpreter": {
   "hash": "0b7367f57bf9904af5d15e1685ff3d84137deb646b78f1ef6564f95c07baf8ac"
  },
  "kernelspec": {
   "display_name": "Python 3.9.7 ('base')",
   "language": "python",
   "name": "python3"
  },
  "language_info": {
   "codemirror_mode": {
    "name": "ipython",
    "version": 3
   },
   "file_extension": ".py",
   "mimetype": "text/x-python",
   "name": "python",
   "nbconvert_exporter": "python",
   "pygments_lexer": "ipython3",
   "version": "3.9.7"
  },
  "orig_nbformat": 4
 },
 "nbformat": 4,
 "nbformat_minor": 2
}
