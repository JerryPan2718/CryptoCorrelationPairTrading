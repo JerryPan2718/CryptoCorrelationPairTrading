{
 "cells": [
  {
   "cell_type": "code",
   "execution_count": 1,
   "metadata": {},
   "outputs": [],
   "source": [
    "# !pip install plotly\n",
    "import json, sys, os, glob\n",
    "import pandas as pd\n",
    "from datetime import date, time, datetime, timedelta\n",
    "import matplotlib.pyplot as plt\n",
    "from scipy import signal\n",
    "import numpy as np\n",
    "\n",
    "import plotly.express as px"
   ]
  },
  {
   "cell_type": "code",
   "execution_count": 2,
   "metadata": {},
   "outputs": [],
   "source": [
    "def csv_to_df(symbol, base_tf=\"1d\"):\n",
    "    folder_path = f\"./data/spot/monthly/klines/{symbol}/{base_tf}/2017-01-01_2021-08-08/\"\n",
    "    col_names = ['ts', 'open', 'high', 'low', 'close', 'volume', 'close_ts', 'asset_volume', 'num_trades', 'i','d','k']\n",
    "    #Put csv data into pandas dataframe\n",
    "    all_files = glob.glob(folder_path + \"*.csv\")\n",
    "    df_list = (pd.read_csv(f, names=col_names, usecols=[0, 1, 2, 3, 4, 5], index_col=0) for f in all_files)\n",
    "    df = pd.concat(df_list)\n",
    "\n",
    "    #Convert epoch int into actual datetime\n",
    "    df.index = df.index.map(lambda x: datetime.utcfromtimestamp(int(x)/1000))\n",
    "    return df\n",
    "\n",
    "# btc = csv_to_df(\"BTCUSDT\")\n",
    "# eth = csv_to_df(\"ETHUSDT\")\n",
    "# dot = csv_to_df(\"DOTUSDT\")\n",
    "btc = csv_to_df(\"BTCUSDT\", \"1m\")\n",
    "eth = csv_to_df(\"ETHUSDT\", \"1m\")"
   ]
  },
  {
   "cell_type": "code",
   "execution_count": 3,
   "metadata": {},
   "outputs": [
    {
     "data": {
      "text/html": [
       "<div>\n",
       "<style scoped>\n",
       "    .dataframe tbody tr th:only-of-type {\n",
       "        vertical-align: middle;\n",
       "    }\n",
       "\n",
       "    .dataframe tbody tr th {\n",
       "        vertical-align: top;\n",
       "    }\n",
       "\n",
       "    .dataframe thead th {\n",
       "        text-align: right;\n",
       "    }\n",
       "</style>\n",
       "<table border=\"1\" class=\"dataframe\">\n",
       "  <thead>\n",
       "    <tr style=\"text-align: right;\">\n",
       "      <th></th>\n",
       "      <th>open</th>\n",
       "      <th>high</th>\n",
       "      <th>low</th>\n",
       "      <th>close</th>\n",
       "      <th>volume</th>\n",
       "    </tr>\n",
       "    <tr>\n",
       "      <th>ts</th>\n",
       "      <th></th>\n",
       "      <th></th>\n",
       "      <th></th>\n",
       "      <th></th>\n",
       "      <th></th>\n",
       "    </tr>\n",
       "  </thead>\n",
       "  <tbody>\n",
       "    <tr>\n",
       "      <th>2018-09-01 00:00:00</th>\n",
       "      <td>281.46</td>\n",
       "      <td>281.63</td>\n",
       "      <td>281.34</td>\n",
       "      <td>281.61</td>\n",
       "      <td>139.22160</td>\n",
       "    </tr>\n",
       "    <tr>\n",
       "      <th>2018-09-01 00:01:00</th>\n",
       "      <td>281.78</td>\n",
       "      <td>282.58</td>\n",
       "      <td>281.70</td>\n",
       "      <td>282.40</td>\n",
       "      <td>278.51658</td>\n",
       "    </tr>\n",
       "    <tr>\n",
       "      <th>2018-09-01 00:02:00</th>\n",
       "      <td>282.56</td>\n",
       "      <td>282.69</td>\n",
       "      <td>282.29</td>\n",
       "      <td>282.56</td>\n",
       "      <td>483.33609</td>\n",
       "    </tr>\n",
       "    <tr>\n",
       "      <th>2018-09-01 00:03:00</th>\n",
       "      <td>282.41</td>\n",
       "      <td>282.77</td>\n",
       "      <td>282.27</td>\n",
       "      <td>282.41</td>\n",
       "      <td>203.10790</td>\n",
       "    </tr>\n",
       "    <tr>\n",
       "      <th>2018-09-01 00:04:00</th>\n",
       "      <td>282.65</td>\n",
       "      <td>283.20</td>\n",
       "      <td>282.48</td>\n",
       "      <td>282.71</td>\n",
       "      <td>493.13688</td>\n",
       "    </tr>\n",
       "  </tbody>\n",
       "</table>\n",
       "</div>"
      ],
      "text/plain": [
       "                       open    high     low   close     volume\n",
       "ts                                                            \n",
       "2018-09-01 00:00:00  281.46  281.63  281.34  281.61  139.22160\n",
       "2018-09-01 00:01:00  281.78  282.58  281.70  282.40  278.51658\n",
       "2018-09-01 00:02:00  282.56  282.69  282.29  282.56  483.33609\n",
       "2018-09-01 00:03:00  282.41  282.77  282.27  282.41  203.10790\n",
       "2018-09-01 00:04:00  282.65  283.20  282.48  282.71  493.13688"
      ]
     },
     "execution_count": 3,
     "metadata": {},
     "output_type": "execute_result"
    }
   ],
   "source": [
    "btc.head()\n",
    "eth.head()"
   ]
  },
  {
   "cell_type": "code",
   "execution_count": 4,
   "metadata": {},
   "outputs": [
    {
     "name": "stdout",
     "output_type": "stream",
     "text": [
      "y2 is -935331.4513126379 behind y1\n"
     ]
    },
    {
     "ename": "ValueError",
     "evalue": "All arguments should have the same length. The length of argument `y` is 2072468, whereas the length of  previously-processed arguments ['x'] is 2072469",
     "output_type": "error",
     "traceback": [
      "\u001b[0;31m---------------------------------------------------------------------------\u001b[0m",
      "\u001b[0;31mValueError\u001b[0m                                Traceback (most recent call last)",
      "\u001b[0;32m/var/folders/_4/mgpw4lqx1d30n2zg2dwwtp8w0000gn/T/ipykernel_83264/1418275070.py\u001b[0m in \u001b[0;36m<module>\u001b[0;34m\u001b[0m\n\u001b[1;32m     25\u001b[0m \u001b[0;31m# y2 = y[:3*sr]\u001b[0m\u001b[0;34m\u001b[0m\u001b[0;34m\u001b[0m\u001b[0;34m\u001b[0m\u001b[0m\n\u001b[1;32m     26\u001b[0m \u001b[0;34m\u001b[0m\u001b[0m\n\u001b[0;32m---> 27\u001b[0;31m \u001b[0mlag_finder\u001b[0m\u001b[0;34m(\u001b[0m\u001b[0mbtc\u001b[0m\u001b[0;34m[\u001b[0m\u001b[0;34m'close'\u001b[0m\u001b[0;34m]\u001b[0m\u001b[0;34m,\u001b[0m \u001b[0meth\u001b[0m\u001b[0;34m[\u001b[0m\u001b[0;34m'close'\u001b[0m\u001b[0;34m]\u001b[0m\u001b[0;34m,\u001b[0m \u001b[0msr\u001b[0m\u001b[0;34m)\u001b[0m\u001b[0;34m\u001b[0m\u001b[0;34m\u001b[0m\u001b[0m\n\u001b[0m",
      "\u001b[0;32m/var/folders/_4/mgpw4lqx1d30n2zg2dwwtp8w0000gn/T/ipykernel_83264/1418275070.py\u001b[0m in \u001b[0;36mlag_finder\u001b[0;34m(y1, y2, sr)\u001b[0m\n\u001b[1;32m     14\u001b[0m     \u001b[0;31m# plt.ylabel('Correlation coeff')\u001b[0m\u001b[0;34m\u001b[0m\u001b[0;34m\u001b[0m\u001b[0;34m\u001b[0m\u001b[0m\n\u001b[1;32m     15\u001b[0m     \u001b[0;31m# plt.show()\u001b[0m\u001b[0;34m\u001b[0m\u001b[0;34m\u001b[0m\u001b[0;34m\u001b[0m\u001b[0m\n\u001b[0;32m---> 16\u001b[0;31m     \u001b[0mfig\u001b[0m \u001b[0;34m=\u001b[0m \u001b[0mpx\u001b[0m\u001b[0;34m.\u001b[0m\u001b[0mline\u001b[0m\u001b[0;34m(\u001b[0m\u001b[0mx\u001b[0m\u001b[0;34m=\u001b[0m\u001b[0mdelay_arr\u001b[0m\u001b[0;34m,\u001b[0m \u001b[0my\u001b[0m\u001b[0;34m=\u001b[0m\u001b[0mcorr\u001b[0m\u001b[0;34m,\u001b[0m \u001b[0mtitle\u001b[0m\u001b[0;34m=\u001b[0m\u001b[0;34mf'Lag: {np.argmax(corr)}'\u001b[0m\u001b[0;34m)\u001b[0m\u001b[0;34m\u001b[0m\u001b[0;34m\u001b[0m\u001b[0m\n\u001b[0m\u001b[1;32m     17\u001b[0m     \u001b[0mfig\u001b[0m\u001b[0;34m.\u001b[0m\u001b[0mshow\u001b[0m\u001b[0;34m(\u001b[0m\u001b[0;34m)\u001b[0m\u001b[0;34m\u001b[0m\u001b[0;34m\u001b[0m\u001b[0m\n\u001b[1;32m     18\u001b[0m \u001b[0;34m\u001b[0m\u001b[0m\n",
      "\u001b[0;32m~/miniconda3/lib/python3.7/site-packages/plotly/express/_chart_types.py\u001b[0m in \u001b[0;36mline\u001b[0;34m(data_frame, x, y, line_group, color, line_dash, symbol, hover_name, hover_data, custom_data, text, facet_row, facet_col, facet_col_wrap, facet_row_spacing, facet_col_spacing, error_x, error_x_minus, error_y, error_y_minus, animation_frame, animation_group, category_orders, labels, orientation, color_discrete_sequence, color_discrete_map, line_dash_sequence, line_dash_map, symbol_sequence, symbol_map, markers, log_x, log_y, range_x, range_y, line_shape, render_mode, title, template, width, height)\u001b[0m\n\u001b[1;32m    262\u001b[0m     \u001b[0ma\u001b[0m \u001b[0mpolyline\u001b[0m \u001b[0mmark\u001b[0m \u001b[0;32min\u001b[0m \u001b[0;36m2\u001b[0m\u001b[0mD\u001b[0m \u001b[0mspace\u001b[0m\u001b[0;34m.\u001b[0m\u001b[0;34m\u001b[0m\u001b[0;34m\u001b[0m\u001b[0m\n\u001b[1;32m    263\u001b[0m     \"\"\"\n\u001b[0;32m--> 264\u001b[0;31m     \u001b[0;32mreturn\u001b[0m \u001b[0mmake_figure\u001b[0m\u001b[0;34m(\u001b[0m\u001b[0margs\u001b[0m\u001b[0;34m=\u001b[0m\u001b[0mlocals\u001b[0m\u001b[0;34m(\u001b[0m\u001b[0;34m)\u001b[0m\u001b[0;34m,\u001b[0m \u001b[0mconstructor\u001b[0m\u001b[0;34m=\u001b[0m\u001b[0mgo\u001b[0m\u001b[0;34m.\u001b[0m\u001b[0mScatter\u001b[0m\u001b[0;34m)\u001b[0m\u001b[0;34m\u001b[0m\u001b[0;34m\u001b[0m\u001b[0m\n\u001b[0m\u001b[1;32m    265\u001b[0m \u001b[0;34m\u001b[0m\u001b[0m\n\u001b[1;32m    266\u001b[0m \u001b[0;34m\u001b[0m\u001b[0m\n",
      "\u001b[0;32m~/miniconda3/lib/python3.7/site-packages/plotly/express/_core.py\u001b[0m in \u001b[0;36mmake_figure\u001b[0;34m(args, constructor, trace_patch, layout_patch)\u001b[0m\n\u001b[1;32m   1946\u001b[0m     \u001b[0mapply_default_cascade\u001b[0m\u001b[0;34m(\u001b[0m\u001b[0margs\u001b[0m\u001b[0;34m)\u001b[0m\u001b[0;34m\u001b[0m\u001b[0;34m\u001b[0m\u001b[0m\n\u001b[1;32m   1947\u001b[0m \u001b[0;34m\u001b[0m\u001b[0m\n\u001b[0;32m-> 1948\u001b[0;31m     \u001b[0margs\u001b[0m \u001b[0;34m=\u001b[0m \u001b[0mbuild_dataframe\u001b[0m\u001b[0;34m(\u001b[0m\u001b[0margs\u001b[0m\u001b[0;34m,\u001b[0m \u001b[0mconstructor\u001b[0m\u001b[0;34m)\u001b[0m\u001b[0;34m\u001b[0m\u001b[0;34m\u001b[0m\u001b[0m\n\u001b[0m\u001b[1;32m   1949\u001b[0m     \u001b[0;32mif\u001b[0m \u001b[0mconstructor\u001b[0m \u001b[0;32min\u001b[0m \u001b[0;34m[\u001b[0m\u001b[0mgo\u001b[0m\u001b[0;34m.\u001b[0m\u001b[0mTreemap\u001b[0m\u001b[0;34m,\u001b[0m \u001b[0mgo\u001b[0m\u001b[0;34m.\u001b[0m\u001b[0mSunburst\u001b[0m\u001b[0;34m,\u001b[0m \u001b[0mgo\u001b[0m\u001b[0;34m.\u001b[0m\u001b[0mIcicle\u001b[0m\u001b[0;34m]\u001b[0m \u001b[0;32mand\u001b[0m \u001b[0margs\u001b[0m\u001b[0;34m[\u001b[0m\u001b[0;34m\"path\"\u001b[0m\u001b[0;34m]\u001b[0m \u001b[0;32mis\u001b[0m \u001b[0;32mnot\u001b[0m \u001b[0;32mNone\u001b[0m\u001b[0;34m:\u001b[0m\u001b[0;34m\u001b[0m\u001b[0;34m\u001b[0m\u001b[0m\n\u001b[1;32m   1950\u001b[0m         \u001b[0margs\u001b[0m \u001b[0;34m=\u001b[0m \u001b[0mprocess_dataframe_hierarchy\u001b[0m\u001b[0;34m(\u001b[0m\u001b[0margs\u001b[0m\u001b[0;34m)\u001b[0m\u001b[0;34m\u001b[0m\u001b[0;34m\u001b[0m\u001b[0m\n",
      "\u001b[0;32m~/miniconda3/lib/python3.7/site-packages/plotly/express/_core.py\u001b[0m in \u001b[0;36mbuild_dataframe\u001b[0;34m(args, constructor)\u001b[0m\n\u001b[1;32m   1404\u001b[0m \u001b[0;34m\u001b[0m\u001b[0m\n\u001b[1;32m   1405\u001b[0m     df_output, wide_id_vars = process_args_into_dataframe(\n\u001b[0;32m-> 1406\u001b[0;31m         \u001b[0margs\u001b[0m\u001b[0;34m,\u001b[0m \u001b[0mwide_mode\u001b[0m\u001b[0;34m,\u001b[0m \u001b[0mvar_name\u001b[0m\u001b[0;34m,\u001b[0m \u001b[0mvalue_name\u001b[0m\u001b[0;34m\u001b[0m\u001b[0;34m\u001b[0m\u001b[0m\n\u001b[0m\u001b[1;32m   1407\u001b[0m     )\n\u001b[1;32m   1408\u001b[0m \u001b[0;34m\u001b[0m\u001b[0m\n",
      "\u001b[0;32m~/miniconda3/lib/python3.7/site-packages/plotly/express/_core.py\u001b[0m in \u001b[0;36mprocess_args_into_dataframe\u001b[0;34m(args, wide_mode, var_name, value_name)\u001b[0m\n\u001b[1;32m   1247\u001b[0m                         \u001b[0;34m\"The length of argument `%s` is %d, whereas the \"\u001b[0m\u001b[0;34m\u001b[0m\u001b[0;34m\u001b[0m\u001b[0m\n\u001b[1;32m   1248\u001b[0m                         \u001b[0;34m\"length of  previously-processed arguments %s is %d\"\u001b[0m\u001b[0;34m\u001b[0m\u001b[0;34m\u001b[0m\u001b[0m\n\u001b[0;32m-> 1249\u001b[0;31m                         \u001b[0;34m%\u001b[0m \u001b[0;34m(\u001b[0m\u001b[0mfield\u001b[0m\u001b[0;34m,\u001b[0m \u001b[0mlen\u001b[0m\u001b[0;34m(\u001b[0m\u001b[0margument\u001b[0m\u001b[0;34m)\u001b[0m\u001b[0;34m,\u001b[0m \u001b[0mstr\u001b[0m\u001b[0;34m(\u001b[0m\u001b[0mlist\u001b[0m\u001b[0;34m(\u001b[0m\u001b[0mdf_output\u001b[0m\u001b[0;34m.\u001b[0m\u001b[0mcolumns\u001b[0m\u001b[0;34m)\u001b[0m\u001b[0;34m)\u001b[0m\u001b[0;34m,\u001b[0m \u001b[0mlength\u001b[0m\u001b[0;34m)\u001b[0m\u001b[0;34m\u001b[0m\u001b[0;34m\u001b[0m\u001b[0m\n\u001b[0m\u001b[1;32m   1250\u001b[0m                     )\n\u001b[1;32m   1251\u001b[0m                 \u001b[0mdf_output\u001b[0m\u001b[0;34m[\u001b[0m\u001b[0mstr\u001b[0m\u001b[0;34m(\u001b[0m\u001b[0mcol_name\u001b[0m\u001b[0;34m)\u001b[0m\u001b[0;34m]\u001b[0m \u001b[0;34m=\u001b[0m \u001b[0mto_unindexed_series\u001b[0m\u001b[0;34m(\u001b[0m\u001b[0margument\u001b[0m\u001b[0;34m)\u001b[0m\u001b[0;34m\u001b[0m\u001b[0;34m\u001b[0m\u001b[0m\n",
      "\u001b[0;31mValueError\u001b[0m: All arguments should have the same length. The length of argument `y` is 2072468, whereas the length of  previously-processed arguments ['x'] is 2072469"
     ]
    }
   ],
   "source": [
    "def lag_finder(y1, y2, sr):\n",
    "    n = len(y1)\n",
    "\n",
    "    corr = signal.correlate(y2, y1, mode='same') / np.sqrt(signal.correlate(y1, y1, mode='same')[int(n/2)] * signal.correlate(y2, y2, mode='same')[int(n/2)])\n",
    "\n",
    "    delay_arr = np.linspace(-0.5*n/sr, 0.5*n/sr, n)\n",
    "    delay = delay_arr[np.argmax(corr)]\n",
    "    print('y2 is ' + str(delay) + ' behind y1')\n",
    "\n",
    "    # plt.figure()\n",
    "    # plt.plot(delay_arr, corr)\n",
    "    # plt.title('Lag: ' + str(np.round(delay, 3)) + ' s')\n",
    "    # plt.xlabel('Lag')\n",
    "    # plt.ylabel('Correlation coeff')\n",
    "    # plt.show()\n",
    "    fig = px.line(x=delay_arr, y=corr, title=f'Lag: {np.argmax(corr)}')\n",
    "    fig.show()\n",
    "\n",
    "# Sine sample with some noise and copy to y1 and y2 with a 1-second lag\n",
    "sr = 1\n",
    "# y = np.linspace(0, 2*np.pi, sr)\n",
    "# y = np.tile(np.sin(y), 5)\n",
    "# y += np.random.normal(0, 5, y.shape)\n",
    "# y1 = y[sr:4*sr]\n",
    "# y2 = y[:3*sr]\n",
    "\n",
    "lag_finder(btc['close'], eth['close'], sr)"
   ]
  },
  {
   "cell_type": "code",
   "execution_count": null,
   "metadata": {},
   "outputs": [],
   "source": [
    "N = len(btc['close'])"
   ]
  },
  {
   "cell_type": "code",
   "execution_count": null,
   "metadata": {},
   "outputs": [],
   "source": [
    "y1 = dot['close']\n",
    "y2 = eth['close'][-len(y1):]\n",
    "y1 = (y1 - np.mean(y1)) / np.std(y1)\n",
    "y2 = (y2 - np.mean(y2)) / np.std(y2)\n",
    "df = pd.DataFrame(np.array([y1, y2]).T, columns=[\"DOT\", \"ETH\"])\n",
    "fig = px.line(df, x=df.index, y=[\"DOT\", \"ETH\"])\n",
    "fig.show()"
   ]
  },
  {
   "cell_type": "code",
   "execution_count": null,
   "metadata": {},
   "outputs": [],
   "source": [
    "def max_offset(df1, df2):\n",
    "    y1 = df1['close'][-2000:]\n",
    "    y2 = df2['close'][-2000:]\n",
    "    y1 = (y1 - np.mean(y1)) / np.std(y1)\n",
    "    y2 = (y2 - np.mean(y2)) / np.std(y2)\n",
    "    min_len = min(len(y1), len(y2))\n",
    "    if len(y1) > len(y2):\n",
    "        temp = y2\n",
    "        y2 = y1\n",
    "        y1 = temp\n",
    "    y2 = y2[-min_len:]\n",
    "    corrs = signal.correlate(y2, y1, mode='full')\n",
    "    fig = px.line(x=range(len(corrs)), y=corrs, title=f'Lag')\n",
    "    fig.show()\n",
    "    return np.argmax(corrs) - min_len, corrs[np.argmax(corrs)]\n",
    "\n",
    "print(max_offset(btc1, eth1))\n",
    "# print(max_offset(eth, dot))\n",
    "# print(max_offset(btc, dot))"
   ]
  },
  {
   "cell_type": "code",
   "execution_count": null,
   "metadata": {},
   "outputs": [],
   "source": []
  },
  {
   "cell_type": "code",
   "execution_count": null,
   "metadata": {},
   "outputs": [],
   "source": []
  }
 ],
 "metadata": {
  "interpreter": {
   "hash": "52b9590b180886adb4f604ee438d81a6419d87cdf88c5f5f33d8e68e1a70c593"
  },
  "kernelspec": {
   "display_name": "Python 3 (ipykernel)",
   "language": "python",
   "name": "python3"
  },
  "language_info": {
   "codemirror_mode": {
    "name": "ipython",
    "version": 3
   },
   "file_extension": ".py",
   "mimetype": "text/x-python",
   "name": "python",
   "nbconvert_exporter": "python",
   "pygments_lexer": "ipython3",
   "version": "3.7.10"
  },
  "varInspector": {
   "cols": {
    "lenName": 16,
    "lenType": 16,
    "lenVar": 40
   },
   "kernels_config": {
    "python": {
     "delete_cmd_postfix": "",
     "delete_cmd_prefix": "del ",
     "library": "var_list.py",
     "varRefreshCmd": "print(var_dic_list())"
    },
    "r": {
     "delete_cmd_postfix": ") ",
     "delete_cmd_prefix": "rm(",
     "library": "var_list.r",
     "varRefreshCmd": "cat(var_dic_list()) "
    }
   },
   "types_to_exclude": [
    "module",
    "function",
    "builtin_function_or_method",
    "instance",
    "_Feature"
   ],
   "window_display": false
  }
 },
 "nbformat": 4,
 "nbformat_minor": 2
}
